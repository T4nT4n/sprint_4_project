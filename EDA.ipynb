{
 "cells": [
  {
   "cell_type": "markdown",
   "metadata": {},
   "source": [
    "# Introduction"
   ]
  },
  {
   "cell_type": "markdown",
   "metadata": {},
   "source": [
    "# Open files"
   ]
  },
  {
   "cell_type": "markdown",
   "metadata": {},
   "source": [
    "### Importing Libraries"
   ]
  },
  {
   "cell_type": "code",
   "execution_count": 87,
   "metadata": {},
   "outputs": [],
   "source": [
    "#We import the necessary libraries for this document\n",
    "import pandas as pd\n",
    "import matplotlib.pyplot as plt\n",
    "import plotly.express as px\n",
    "import nbformat"
   ]
  },
  {
   "cell_type": "markdown",
   "metadata": {},
   "source": [
    "### Opening the CSV file"
   ]
  },
  {
   "cell_type": "code",
   "execution_count": 88,
   "metadata": {},
   "outputs": [
    {
     "data": {
      "text/html": [
       "<div>\n",
       "<style scoped>\n",
       "    .dataframe tbody tr th:only-of-type {\n",
       "        vertical-align: middle;\n",
       "    }\n",
       "\n",
       "    .dataframe tbody tr th {\n",
       "        vertical-align: top;\n",
       "    }\n",
       "\n",
       "    .dataframe thead th {\n",
       "        text-align: right;\n",
       "    }\n",
       "</style>\n",
       "<table border=\"1\" class=\"dataframe\">\n",
       "  <thead>\n",
       "    <tr style=\"text-align: right;\">\n",
       "      <th></th>\n",
       "      <th>price</th>\n",
       "      <th>model_year</th>\n",
       "      <th>model</th>\n",
       "      <th>condition</th>\n",
       "      <th>cylinders</th>\n",
       "      <th>fuel</th>\n",
       "      <th>odometer</th>\n",
       "      <th>transmission</th>\n",
       "      <th>type</th>\n",
       "      <th>paint_color</th>\n",
       "      <th>is_4wd</th>\n",
       "      <th>date_posted</th>\n",
       "      <th>days_listed</th>\n",
       "    </tr>\n",
       "  </thead>\n",
       "  <tbody>\n",
       "    <tr>\n",
       "      <th>0</th>\n",
       "      <td>9400</td>\n",
       "      <td>2011.0</td>\n",
       "      <td>bmw x5</td>\n",
       "      <td>good</td>\n",
       "      <td>6.0</td>\n",
       "      <td>gas</td>\n",
       "      <td>145000.0</td>\n",
       "      <td>automatic</td>\n",
       "      <td>SUV</td>\n",
       "      <td>NaN</td>\n",
       "      <td>1.0</td>\n",
       "      <td>2018-06-23</td>\n",
       "      <td>19</td>\n",
       "    </tr>\n",
       "    <tr>\n",
       "      <th>1</th>\n",
       "      <td>25500</td>\n",
       "      <td>NaN</td>\n",
       "      <td>ford f-150</td>\n",
       "      <td>good</td>\n",
       "      <td>6.0</td>\n",
       "      <td>gas</td>\n",
       "      <td>88705.0</td>\n",
       "      <td>automatic</td>\n",
       "      <td>pickup</td>\n",
       "      <td>white</td>\n",
       "      <td>1.0</td>\n",
       "      <td>2018-10-19</td>\n",
       "      <td>50</td>\n",
       "    </tr>\n",
       "    <tr>\n",
       "      <th>2</th>\n",
       "      <td>5500</td>\n",
       "      <td>2013.0</td>\n",
       "      <td>hyundai sonata</td>\n",
       "      <td>like new</td>\n",
       "      <td>4.0</td>\n",
       "      <td>gas</td>\n",
       "      <td>110000.0</td>\n",
       "      <td>automatic</td>\n",
       "      <td>sedan</td>\n",
       "      <td>red</td>\n",
       "      <td>NaN</td>\n",
       "      <td>2019-02-07</td>\n",
       "      <td>79</td>\n",
       "    </tr>\n",
       "    <tr>\n",
       "      <th>3</th>\n",
       "      <td>1500</td>\n",
       "      <td>2003.0</td>\n",
       "      <td>ford f-150</td>\n",
       "      <td>fair</td>\n",
       "      <td>8.0</td>\n",
       "      <td>gas</td>\n",
       "      <td>NaN</td>\n",
       "      <td>automatic</td>\n",
       "      <td>pickup</td>\n",
       "      <td>NaN</td>\n",
       "      <td>NaN</td>\n",
       "      <td>2019-03-22</td>\n",
       "      <td>9</td>\n",
       "    </tr>\n",
       "    <tr>\n",
       "      <th>4</th>\n",
       "      <td>14900</td>\n",
       "      <td>2017.0</td>\n",
       "      <td>chrysler 200</td>\n",
       "      <td>excellent</td>\n",
       "      <td>4.0</td>\n",
       "      <td>gas</td>\n",
       "      <td>80903.0</td>\n",
       "      <td>automatic</td>\n",
       "      <td>sedan</td>\n",
       "      <td>black</td>\n",
       "      <td>NaN</td>\n",
       "      <td>2019-04-02</td>\n",
       "      <td>28</td>\n",
       "    </tr>\n",
       "    <tr>\n",
       "      <th>...</th>\n",
       "      <td>...</td>\n",
       "      <td>...</td>\n",
       "      <td>...</td>\n",
       "      <td>...</td>\n",
       "      <td>...</td>\n",
       "      <td>...</td>\n",
       "      <td>...</td>\n",
       "      <td>...</td>\n",
       "      <td>...</td>\n",
       "      <td>...</td>\n",
       "      <td>...</td>\n",
       "      <td>...</td>\n",
       "      <td>...</td>\n",
       "    </tr>\n",
       "    <tr>\n",
       "      <th>51520</th>\n",
       "      <td>9249</td>\n",
       "      <td>2013.0</td>\n",
       "      <td>nissan maxima</td>\n",
       "      <td>like new</td>\n",
       "      <td>6.0</td>\n",
       "      <td>gas</td>\n",
       "      <td>88136.0</td>\n",
       "      <td>automatic</td>\n",
       "      <td>sedan</td>\n",
       "      <td>black</td>\n",
       "      <td>NaN</td>\n",
       "      <td>2018-10-03</td>\n",
       "      <td>37</td>\n",
       "    </tr>\n",
       "    <tr>\n",
       "      <th>51521</th>\n",
       "      <td>2700</td>\n",
       "      <td>2002.0</td>\n",
       "      <td>honda civic</td>\n",
       "      <td>salvage</td>\n",
       "      <td>4.0</td>\n",
       "      <td>gas</td>\n",
       "      <td>181500.0</td>\n",
       "      <td>automatic</td>\n",
       "      <td>sedan</td>\n",
       "      <td>white</td>\n",
       "      <td>NaN</td>\n",
       "      <td>2018-11-14</td>\n",
       "      <td>22</td>\n",
       "    </tr>\n",
       "    <tr>\n",
       "      <th>51522</th>\n",
       "      <td>3950</td>\n",
       "      <td>2009.0</td>\n",
       "      <td>hyundai sonata</td>\n",
       "      <td>excellent</td>\n",
       "      <td>4.0</td>\n",
       "      <td>gas</td>\n",
       "      <td>128000.0</td>\n",
       "      <td>automatic</td>\n",
       "      <td>sedan</td>\n",
       "      <td>blue</td>\n",
       "      <td>NaN</td>\n",
       "      <td>2018-11-15</td>\n",
       "      <td>32</td>\n",
       "    </tr>\n",
       "    <tr>\n",
       "      <th>51523</th>\n",
       "      <td>7455</td>\n",
       "      <td>2013.0</td>\n",
       "      <td>toyota corolla</td>\n",
       "      <td>good</td>\n",
       "      <td>4.0</td>\n",
       "      <td>gas</td>\n",
       "      <td>139573.0</td>\n",
       "      <td>automatic</td>\n",
       "      <td>sedan</td>\n",
       "      <td>black</td>\n",
       "      <td>NaN</td>\n",
       "      <td>2018-07-02</td>\n",
       "      <td>71</td>\n",
       "    </tr>\n",
       "    <tr>\n",
       "      <th>51524</th>\n",
       "      <td>6300</td>\n",
       "      <td>2014.0</td>\n",
       "      <td>nissan altima</td>\n",
       "      <td>good</td>\n",
       "      <td>4.0</td>\n",
       "      <td>gas</td>\n",
       "      <td>NaN</td>\n",
       "      <td>automatic</td>\n",
       "      <td>sedan</td>\n",
       "      <td>NaN</td>\n",
       "      <td>NaN</td>\n",
       "      <td>2018-06-05</td>\n",
       "      <td>10</td>\n",
       "    </tr>\n",
       "  </tbody>\n",
       "</table>\n",
       "<p>51525 rows × 13 columns</p>\n",
       "</div>"
      ],
      "text/plain": [
       "       price  model_year           model  condition  cylinders fuel  odometer  \\\n",
       "0       9400      2011.0          bmw x5       good        6.0  gas  145000.0   \n",
       "1      25500         NaN      ford f-150       good        6.0  gas   88705.0   \n",
       "2       5500      2013.0  hyundai sonata   like new        4.0  gas  110000.0   \n",
       "3       1500      2003.0      ford f-150       fair        8.0  gas       NaN   \n",
       "4      14900      2017.0    chrysler 200  excellent        4.0  gas   80903.0   \n",
       "...      ...         ...             ...        ...        ...  ...       ...   \n",
       "51520   9249      2013.0   nissan maxima   like new        6.0  gas   88136.0   \n",
       "51521   2700      2002.0     honda civic    salvage        4.0  gas  181500.0   \n",
       "51522   3950      2009.0  hyundai sonata  excellent        4.0  gas  128000.0   \n",
       "51523   7455      2013.0  toyota corolla       good        4.0  gas  139573.0   \n",
       "51524   6300      2014.0   nissan altima       good        4.0  gas       NaN   \n",
       "\n",
       "      transmission    type paint_color  is_4wd date_posted  days_listed  \n",
       "0        automatic     SUV         NaN     1.0  2018-06-23           19  \n",
       "1        automatic  pickup       white     1.0  2018-10-19           50  \n",
       "2        automatic   sedan         red     NaN  2019-02-07           79  \n",
       "3        automatic  pickup         NaN     NaN  2019-03-22            9  \n",
       "4        automatic   sedan       black     NaN  2019-04-02           28  \n",
       "...            ...     ...         ...     ...         ...          ...  \n",
       "51520    automatic   sedan       black     NaN  2018-10-03           37  \n",
       "51521    automatic   sedan       white     NaN  2018-11-14           22  \n",
       "51522    automatic   sedan        blue     NaN  2018-11-15           32  \n",
       "51523    automatic   sedan       black     NaN  2018-07-02           71  \n",
       "51524    automatic   sedan         NaN     NaN  2018-06-05           10  \n",
       "\n",
       "[51525 rows x 13 columns]"
      ]
     },
     "execution_count": 88,
     "metadata": {},
     "output_type": "execute_result"
    }
   ],
   "source": [
    "# We open the csv file\n",
    "vehicle_df = pd.read_csv('vehicles_us.csv')\n",
    "\n",
    "# Checking the contents of the vehicles dataframe\n",
    "vehicle_df"
   ]
  },
  {
   "cell_type": "code",
   "execution_count": 89,
   "metadata": {},
   "outputs": [
    {
     "name": "stdout",
     "output_type": "stream",
     "text": [
      "<class 'pandas.core.frame.DataFrame'>\n",
      "RangeIndex: 51525 entries, 0 to 51524\n",
      "Data columns (total 13 columns):\n",
      " #   Column        Non-Null Count  Dtype  \n",
      "---  ------        --------------  -----  \n",
      " 0   price         51525 non-null  int64  \n",
      " 1   model_year    47906 non-null  float64\n",
      " 2   model         51525 non-null  object \n",
      " 3   condition     51525 non-null  object \n",
      " 4   cylinders     46265 non-null  float64\n",
      " 5   fuel          51525 non-null  object \n",
      " 6   odometer      43633 non-null  float64\n",
      " 7   transmission  51525 non-null  object \n",
      " 8   type          51525 non-null  object \n",
      " 9   paint_color   42258 non-null  object \n",
      " 10  is_4wd        25572 non-null  float64\n",
      " 11  date_posted   51525 non-null  object \n",
      " 12  days_listed   51525 non-null  int64  \n",
      "dtypes: float64(4), int64(2), object(7)\n",
      "memory usage: 5.1+ MB\n"
     ]
    }
   ],
   "source": [
    "#Types of the information within the vehicles dataframe\n",
    "vehicle_df.info()"
   ]
  },
  {
   "cell_type": "markdown",
   "metadata": {},
   "source": [
    "# Format Files"
   ]
  },
  {
   "cell_type": "markdown",
   "metadata": {},
   "source": [
    "### What are the top 10 (makes **with** models) of cars that have, on average, the greatest mileage for each year from 2000 to 2019:"
   ]
  },
  {
   "cell_type": "code",
   "execution_count": 90,
   "metadata": {},
   "outputs": [
    {
     "name": "stdout",
     "output_type": "stream",
     "text": [
      "model_year    0\n",
      "model         0\n",
      "odometer      0\n",
      "dtype: int64\n"
     ]
    }
   ],
   "source": [
    "# We need valid model year, model, and odometer values. Thus, we remove any rows with null values in these columns\n",
    "filtered_vehicle_df = vehicle_df.dropna(subset=['model_year', 'model', 'odometer'])\n",
    "\n",
    "# We also need to filter the cars that were produced from year 2000 and later\n",
    "filtered_vehicle_df = filtered_vehicle_df[filtered_vehicle_df['model_year'] >= 2000]\n",
    "\n",
    "#Now we are going to filter the cars with the columns that we care about for this problem\n",
    "filtered_vehicle_df = filtered_vehicle_df[['model_year', 'model', 'odometer']]\n",
    "\n",
    "# Let's check to see if there are any null values in any of these columns\n",
    "print(filtered_vehicle_df.isnull().sum())"
   ]
  },
  {
   "cell_type": "code",
   "execution_count": 91,
   "metadata": {},
   "outputs": [
    {
     "data": {
      "text/plain": [
       "model_year  model                      \n",
       "2001.0      gmc yukon                      304350.000000\n",
       "2002.0      ram 3500                       298693.500000\n",
       "            ford f150 supercrew cab xlt    288450.000000\n",
       "2000.0      chevrolet silverado 2500hd     283300.000000\n",
       "2003.0      dodge grand caravan            270150.000000\n",
       "2006.0      ford f-250 sd                  258236.625000\n",
       "2007.0      subaru impreza                 254707.500000\n",
       "2001.0      toyota tundra                  254326.900000\n",
       "2000.0      chevrolet silverado 3500hd     250000.000000\n",
       "            ford f-250 super duty          249475.666667\n",
       "Name: odometer, dtype: float64"
      ]
     },
     "execution_count": 91,
     "metadata": {},
     "output_type": "execute_result"
    }
   ],
   "source": [
    "#For clarity, we are going to organize the dataframe by model year and model of the car in descending order\n",
    "grouped_vehicle_df = filtered_vehicle_df.groupby(['model_year', 'model'])['odometer'].mean()\n",
    "sorted_df = grouped_vehicle_df.sort_values(ascending=False)\n",
    "\n",
    "#Now we want the top five makes the have the greatest overall average values on the odometer\n",
    "top_10 = sorted_df.head(10)\n",
    "\n",
    "#Let's see the results\n",
    "top_10"
   ]
  },
  {
   "cell_type": "markdown",
   "metadata": {},
   "source": [
    "### Conclusion:\n",
    "\n",
    "We see that the top ten makes/models of cars with the highest average odometer recordings (from greatest to least) are gmc yukon, ram 3500, ford f150, and so on."
   ]
  },
  {
   "cell_type": "markdown",
   "metadata": {},
   "source": [
    "## What are the top 3 makes of vehicles that offer a manual as a transmission option?"
   ]
  },
  {
   "cell_type": "code",
   "execution_count": 92,
   "metadata": {},
   "outputs": [
    {
     "data": {
      "text/plain": [
       "transmission\n",
       "automatic    46902\n",
       "manual        2829\n",
       "other         1794\n",
       "Name: count, dtype: int64"
      ]
     },
     "execution_count": 92,
     "metadata": {},
     "output_type": "execute_result"
    }
   ],
   "source": [
    "# Let's see what kind of options are in the transmission column of the vehicle dataframe\n",
    "vehicle_df['transmission'].value_counts()"
   ]
  },
  {
   "cell_type": "code",
   "execution_count": 93,
   "metadata": {},
   "outputs": [
    {
     "data": {
      "text/plain": [
       "model       transmission\n",
       "ford        manual          676\n",
       "jeep        manual          475\n",
       "chevrolet   manual          400\n",
       "toyota      manual          273\n",
       "honda       manual          217\n",
       "subaru      manual          186\n",
       "ram         manual          175\n",
       "nissan      manual          118\n",
       "volkswagen  manual          116\n",
       "kia         manual           70\n",
       "hyundai     manual           53\n",
       "dodge       manual           27\n",
       "gmc         manual           24\n",
       "acura       manual            8\n",
       "bmw         manual            6\n",
       "buick       manual            2\n",
       "cadillac    manual            2\n",
       "chrysler    manual            1\n",
       "Name: count, dtype: int64"
      ]
     },
     "execution_count": 93,
     "metadata": {},
     "output_type": "execute_result"
    }
   ],
   "source": [
    "#Since I only want the make of a vehicle and not the model, I am going to filter out the model column that truly only contains the make--not including the model\n",
    "make_vehicle = vehicle_df.copy()\n",
    "make_vehicle['model'] = make_vehicle['model'].str.split().str[0]\n",
    "\n",
    "#For this problem, we only care about the model and transmission columns so we should keep only these columns\n",
    "make_vehicle = make_vehicle[['model', 'transmission']]\n",
    "\n",
    "#In addition, we only care about manual transmissions so\n",
    "make_vehicle = make_vehicle[make_vehicle['transmission'] == 'manual']\n",
    "\n",
    "#Now we check to see which models offer the most amount of manual transmissions\n",
    "grouped_make = make_vehicle.groupby('model').value_counts().sort_values(ascending=False)\n",
    "\n",
    "#Now we check our work\n",
    "grouped_make"
   ]
  },
  {
   "cell_type": "markdown",
   "metadata": {},
   "source": [
    "### Conclusion:\n",
    "\n",
    "We see that *ford*, *jeep*, and *chevrolet* have the most amount of vehicles that come with a manual transmission."
   ]
  },
  {
   "cell_type": "markdown",
   "metadata": {},
   "source": [
    "# Visual Plots of Data"
   ]
  },
  {
   "cell_type": "markdown",
   "metadata": {},
   "source": [
    "## Bar Chart of the top 10 car makes/models that have the greatest mileage (2000 - 2019)"
   ]
  },
  {
   "cell_type": "code",
   "execution_count": 94,
   "metadata": {},
   "outputs": [
    {
     "data": {
      "application/vnd.plotly.v1+json": {
       "config": {
        "plotlyServerURL": "https://plot.ly"
       },
       "data": [
        {
         "alignmentgroup": "True",
         "hovertemplate": "Car Model=%{x}<br>Average Miles=%{y}<extra></extra>",
         "legendgroup": "",
         "marker": {
          "color": "#636efa",
          "pattern": {
           "shape": ""
          }
         },
         "name": "",
         "offsetgroup": "",
         "orientation": "v",
         "showlegend": false,
         "textposition": "auto",
         "type": "bar",
         "x": [
          "gmc yukon",
          "ram 3500",
          "ford f150 supercrew cab xlt",
          "chevrolet silverado 2500hd",
          "dodge grand caravan",
          "ford f-250 sd",
          "subaru impreza",
          "toyota tundra",
          "chevrolet silverado 3500hd",
          "ford f-250 super duty"
         ],
         "xaxis": "x",
         "y": [
          304350,
          298693.5,
          288450,
          283300,
          270150,
          258236.625,
          254707.5,
          254326.9,
          250000,
          249475.66666666666
         ],
         "yaxis": "y"
        }
       ],
       "layout": {
        "barmode": "relative",
        "legend": {
         "tracegroupgap": 0
        },
        "template": {
         "data": {
          "bar": [
           {
            "error_x": {
             "color": "#2a3f5f"
            },
            "error_y": {
             "color": "#2a3f5f"
            },
            "marker": {
             "line": {
              "color": "#E5ECF6",
              "width": 0.5
             },
             "pattern": {
              "fillmode": "overlay",
              "size": 10,
              "solidity": 0.2
             }
            },
            "type": "bar"
           }
          ],
          "barpolar": [
           {
            "marker": {
             "line": {
              "color": "#E5ECF6",
              "width": 0.5
             },
             "pattern": {
              "fillmode": "overlay",
              "size": 10,
              "solidity": 0.2
             }
            },
            "type": "barpolar"
           }
          ],
          "carpet": [
           {
            "aaxis": {
             "endlinecolor": "#2a3f5f",
             "gridcolor": "white",
             "linecolor": "white",
             "minorgridcolor": "white",
             "startlinecolor": "#2a3f5f"
            },
            "baxis": {
             "endlinecolor": "#2a3f5f",
             "gridcolor": "white",
             "linecolor": "white",
             "minorgridcolor": "white",
             "startlinecolor": "#2a3f5f"
            },
            "type": "carpet"
           }
          ],
          "choropleth": [
           {
            "colorbar": {
             "outlinewidth": 0,
             "ticks": ""
            },
            "type": "choropleth"
           }
          ],
          "contour": [
           {
            "colorbar": {
             "outlinewidth": 0,
             "ticks": ""
            },
            "colorscale": [
             [
              0,
              "#0d0887"
             ],
             [
              0.1111111111111111,
              "#46039f"
             ],
             [
              0.2222222222222222,
              "#7201a8"
             ],
             [
              0.3333333333333333,
              "#9c179e"
             ],
             [
              0.4444444444444444,
              "#bd3786"
             ],
             [
              0.5555555555555556,
              "#d8576b"
             ],
             [
              0.6666666666666666,
              "#ed7953"
             ],
             [
              0.7777777777777778,
              "#fb9f3a"
             ],
             [
              0.8888888888888888,
              "#fdca26"
             ],
             [
              1,
              "#f0f921"
             ]
            ],
            "type": "contour"
           }
          ],
          "contourcarpet": [
           {
            "colorbar": {
             "outlinewidth": 0,
             "ticks": ""
            },
            "type": "contourcarpet"
           }
          ],
          "heatmap": [
           {
            "colorbar": {
             "outlinewidth": 0,
             "ticks": ""
            },
            "colorscale": [
             [
              0,
              "#0d0887"
             ],
             [
              0.1111111111111111,
              "#46039f"
             ],
             [
              0.2222222222222222,
              "#7201a8"
             ],
             [
              0.3333333333333333,
              "#9c179e"
             ],
             [
              0.4444444444444444,
              "#bd3786"
             ],
             [
              0.5555555555555556,
              "#d8576b"
             ],
             [
              0.6666666666666666,
              "#ed7953"
             ],
             [
              0.7777777777777778,
              "#fb9f3a"
             ],
             [
              0.8888888888888888,
              "#fdca26"
             ],
             [
              1,
              "#f0f921"
             ]
            ],
            "type": "heatmap"
           }
          ],
          "heatmapgl": [
           {
            "colorbar": {
             "outlinewidth": 0,
             "ticks": ""
            },
            "colorscale": [
             [
              0,
              "#0d0887"
             ],
             [
              0.1111111111111111,
              "#46039f"
             ],
             [
              0.2222222222222222,
              "#7201a8"
             ],
             [
              0.3333333333333333,
              "#9c179e"
             ],
             [
              0.4444444444444444,
              "#bd3786"
             ],
             [
              0.5555555555555556,
              "#d8576b"
             ],
             [
              0.6666666666666666,
              "#ed7953"
             ],
             [
              0.7777777777777778,
              "#fb9f3a"
             ],
             [
              0.8888888888888888,
              "#fdca26"
             ],
             [
              1,
              "#f0f921"
             ]
            ],
            "type": "heatmapgl"
           }
          ],
          "histogram": [
           {
            "marker": {
             "pattern": {
              "fillmode": "overlay",
              "size": 10,
              "solidity": 0.2
             }
            },
            "type": "histogram"
           }
          ],
          "histogram2d": [
           {
            "colorbar": {
             "outlinewidth": 0,
             "ticks": ""
            },
            "colorscale": [
             [
              0,
              "#0d0887"
             ],
             [
              0.1111111111111111,
              "#46039f"
             ],
             [
              0.2222222222222222,
              "#7201a8"
             ],
             [
              0.3333333333333333,
              "#9c179e"
             ],
             [
              0.4444444444444444,
              "#bd3786"
             ],
             [
              0.5555555555555556,
              "#d8576b"
             ],
             [
              0.6666666666666666,
              "#ed7953"
             ],
             [
              0.7777777777777778,
              "#fb9f3a"
             ],
             [
              0.8888888888888888,
              "#fdca26"
             ],
             [
              1,
              "#f0f921"
             ]
            ],
            "type": "histogram2d"
           }
          ],
          "histogram2dcontour": [
           {
            "colorbar": {
             "outlinewidth": 0,
             "ticks": ""
            },
            "colorscale": [
             [
              0,
              "#0d0887"
             ],
             [
              0.1111111111111111,
              "#46039f"
             ],
             [
              0.2222222222222222,
              "#7201a8"
             ],
             [
              0.3333333333333333,
              "#9c179e"
             ],
             [
              0.4444444444444444,
              "#bd3786"
             ],
             [
              0.5555555555555556,
              "#d8576b"
             ],
             [
              0.6666666666666666,
              "#ed7953"
             ],
             [
              0.7777777777777778,
              "#fb9f3a"
             ],
             [
              0.8888888888888888,
              "#fdca26"
             ],
             [
              1,
              "#f0f921"
             ]
            ],
            "type": "histogram2dcontour"
           }
          ],
          "mesh3d": [
           {
            "colorbar": {
             "outlinewidth": 0,
             "ticks": ""
            },
            "type": "mesh3d"
           }
          ],
          "parcoords": [
           {
            "line": {
             "colorbar": {
              "outlinewidth": 0,
              "ticks": ""
             }
            },
            "type": "parcoords"
           }
          ],
          "pie": [
           {
            "automargin": true,
            "type": "pie"
           }
          ],
          "scatter": [
           {
            "fillpattern": {
             "fillmode": "overlay",
             "size": 10,
             "solidity": 0.2
            },
            "type": "scatter"
           }
          ],
          "scatter3d": [
           {
            "line": {
             "colorbar": {
              "outlinewidth": 0,
              "ticks": ""
             }
            },
            "marker": {
             "colorbar": {
              "outlinewidth": 0,
              "ticks": ""
             }
            },
            "type": "scatter3d"
           }
          ],
          "scattercarpet": [
           {
            "marker": {
             "colorbar": {
              "outlinewidth": 0,
              "ticks": ""
             }
            },
            "type": "scattercarpet"
           }
          ],
          "scattergeo": [
           {
            "marker": {
             "colorbar": {
              "outlinewidth": 0,
              "ticks": ""
             }
            },
            "type": "scattergeo"
           }
          ],
          "scattergl": [
           {
            "marker": {
             "colorbar": {
              "outlinewidth": 0,
              "ticks": ""
             }
            },
            "type": "scattergl"
           }
          ],
          "scattermapbox": [
           {
            "marker": {
             "colorbar": {
              "outlinewidth": 0,
              "ticks": ""
             }
            },
            "type": "scattermapbox"
           }
          ],
          "scatterpolar": [
           {
            "marker": {
             "colorbar": {
              "outlinewidth": 0,
              "ticks": ""
             }
            },
            "type": "scatterpolar"
           }
          ],
          "scatterpolargl": [
           {
            "marker": {
             "colorbar": {
              "outlinewidth": 0,
              "ticks": ""
             }
            },
            "type": "scatterpolargl"
           }
          ],
          "scatterternary": [
           {
            "marker": {
             "colorbar": {
              "outlinewidth": 0,
              "ticks": ""
             }
            },
            "type": "scatterternary"
           }
          ],
          "surface": [
           {
            "colorbar": {
             "outlinewidth": 0,
             "ticks": ""
            },
            "colorscale": [
             [
              0,
              "#0d0887"
             ],
             [
              0.1111111111111111,
              "#46039f"
             ],
             [
              0.2222222222222222,
              "#7201a8"
             ],
             [
              0.3333333333333333,
              "#9c179e"
             ],
             [
              0.4444444444444444,
              "#bd3786"
             ],
             [
              0.5555555555555556,
              "#d8576b"
             ],
             [
              0.6666666666666666,
              "#ed7953"
             ],
             [
              0.7777777777777778,
              "#fb9f3a"
             ],
             [
              0.8888888888888888,
              "#fdca26"
             ],
             [
              1,
              "#f0f921"
             ]
            ],
            "type": "surface"
           }
          ],
          "table": [
           {
            "cells": {
             "fill": {
              "color": "#EBF0F8"
             },
             "line": {
              "color": "white"
             }
            },
            "header": {
             "fill": {
              "color": "#C8D4E3"
             },
             "line": {
              "color": "white"
             }
            },
            "type": "table"
           }
          ]
         },
         "layout": {
          "annotationdefaults": {
           "arrowcolor": "#2a3f5f",
           "arrowhead": 0,
           "arrowwidth": 1
          },
          "autotypenumbers": "strict",
          "coloraxis": {
           "colorbar": {
            "outlinewidth": 0,
            "ticks": ""
           }
          },
          "colorscale": {
           "diverging": [
            [
             0,
             "#8e0152"
            ],
            [
             0.1,
             "#c51b7d"
            ],
            [
             0.2,
             "#de77ae"
            ],
            [
             0.3,
             "#f1b6da"
            ],
            [
             0.4,
             "#fde0ef"
            ],
            [
             0.5,
             "#f7f7f7"
            ],
            [
             0.6,
             "#e6f5d0"
            ],
            [
             0.7,
             "#b8e186"
            ],
            [
             0.8,
             "#7fbc41"
            ],
            [
             0.9,
             "#4d9221"
            ],
            [
             1,
             "#276419"
            ]
           ],
           "sequential": [
            [
             0,
             "#0d0887"
            ],
            [
             0.1111111111111111,
             "#46039f"
            ],
            [
             0.2222222222222222,
             "#7201a8"
            ],
            [
             0.3333333333333333,
             "#9c179e"
            ],
            [
             0.4444444444444444,
             "#bd3786"
            ],
            [
             0.5555555555555556,
             "#d8576b"
            ],
            [
             0.6666666666666666,
             "#ed7953"
            ],
            [
             0.7777777777777778,
             "#fb9f3a"
            ],
            [
             0.8888888888888888,
             "#fdca26"
            ],
            [
             1,
             "#f0f921"
            ]
           ],
           "sequentialminus": [
            [
             0,
             "#0d0887"
            ],
            [
             0.1111111111111111,
             "#46039f"
            ],
            [
             0.2222222222222222,
             "#7201a8"
            ],
            [
             0.3333333333333333,
             "#9c179e"
            ],
            [
             0.4444444444444444,
             "#bd3786"
            ],
            [
             0.5555555555555556,
             "#d8576b"
            ],
            [
             0.6666666666666666,
             "#ed7953"
            ],
            [
             0.7777777777777778,
             "#fb9f3a"
            ],
            [
             0.8888888888888888,
             "#fdca26"
            ],
            [
             1,
             "#f0f921"
            ]
           ]
          },
          "colorway": [
           "#636efa",
           "#EF553B",
           "#00cc96",
           "#ab63fa",
           "#FFA15A",
           "#19d3f3",
           "#FF6692",
           "#B6E880",
           "#FF97FF",
           "#FECB52"
          ],
          "font": {
           "color": "#2a3f5f"
          },
          "geo": {
           "bgcolor": "white",
           "lakecolor": "white",
           "landcolor": "#E5ECF6",
           "showlakes": true,
           "showland": true,
           "subunitcolor": "white"
          },
          "hoverlabel": {
           "align": "left"
          },
          "hovermode": "closest",
          "mapbox": {
           "style": "light"
          },
          "paper_bgcolor": "white",
          "plot_bgcolor": "#E5ECF6",
          "polar": {
           "angularaxis": {
            "gridcolor": "white",
            "linecolor": "white",
            "ticks": ""
           },
           "bgcolor": "#E5ECF6",
           "radialaxis": {
            "gridcolor": "white",
            "linecolor": "white",
            "ticks": ""
           }
          },
          "scene": {
           "xaxis": {
            "backgroundcolor": "#E5ECF6",
            "gridcolor": "white",
            "gridwidth": 2,
            "linecolor": "white",
            "showbackground": true,
            "ticks": "",
            "zerolinecolor": "white"
           },
           "yaxis": {
            "backgroundcolor": "#E5ECF6",
            "gridcolor": "white",
            "gridwidth": 2,
            "linecolor": "white",
            "showbackground": true,
            "ticks": "",
            "zerolinecolor": "white"
           },
           "zaxis": {
            "backgroundcolor": "#E5ECF6",
            "gridcolor": "white",
            "gridwidth": 2,
            "linecolor": "white",
            "showbackground": true,
            "ticks": "",
            "zerolinecolor": "white"
           }
          },
          "shapedefaults": {
           "line": {
            "color": "#2a3f5f"
           }
          },
          "ternary": {
           "aaxis": {
            "gridcolor": "white",
            "linecolor": "white",
            "ticks": ""
           },
           "baxis": {
            "gridcolor": "white",
            "linecolor": "white",
            "ticks": ""
           },
           "bgcolor": "#E5ECF6",
           "caxis": {
            "gridcolor": "white",
            "linecolor": "white",
            "ticks": ""
           }
          },
          "title": {
           "x": 0.05
          },
          "xaxis": {
           "automargin": true,
           "gridcolor": "white",
           "linecolor": "white",
           "ticks": "",
           "title": {
            "standoff": 15
           },
           "zerolinecolor": "white",
           "zerolinewidth": 2
          },
          "yaxis": {
           "automargin": true,
           "gridcolor": "white",
           "linecolor": "white",
           "ticks": "",
           "title": {
            "standoff": 15
           },
           "zerolinecolor": "white",
           "zerolinewidth": 2
          }
         }
        },
        "title": {
         "text": "Average Miles of Make/Models of Top 10 Cars Models"
        },
        "xaxis": {
         "anchor": "y",
         "domain": [
          0,
          1
         ],
         "title": {
          "text": "Car Model"
         }
        },
        "yaxis": {
         "anchor": "x",
         "domain": [
          0,
          1
         ],
         "range": [
          240000,
          320000
         ],
         "title": {
          "text": "Average Miles"
         }
        }
       }
      }
     },
     "metadata": {},
     "output_type": "display_data"
    }
   ],
   "source": [
    "#We need to convert the top_10 series to a dataframe so that the indexes can be used as axes for the bar chart\n",
    "top_10_df = top_10.reset_index(name='average_miles')\n",
    "fig = px.bar(top_10_df, x='model', y = 'average_miles', title='Average Miles of Make/Models of Top 10 Cars Models', labels={'model': 'Car Model', 'average_miles': 'Average Miles'}, range_y=[240000, 320000])\n",
    "fig.show()\n"
   ]
  },
  {
   "cell_type": "markdown",
   "metadata": {},
   "source": [
    "## Scatterplot of the top 10 car makes/models that have the greatest mileage (2000 - 2019)"
   ]
  },
  {
   "cell_type": "code",
   "execution_count": 95,
   "metadata": {},
   "outputs": [
    {
     "data": {
      "application/vnd.plotly.v1+json": {
       "config": {
        "plotlyServerURL": "https://plot.ly"
       },
       "data": [
        {
         "hovertemplate": "Car Model=%{x}<br>Average Miles=%{y}<extra></extra>",
         "legendgroup": "",
         "marker": {
          "color": "#636efa",
          "symbol": "circle"
         },
         "mode": "markers",
         "name": "",
         "orientation": "v",
         "showlegend": false,
         "type": "scatter",
         "x": [
          "gmc yukon",
          "ram 3500",
          "ford f150 supercrew cab xlt",
          "chevrolet silverado 2500hd",
          "dodge grand caravan",
          "ford f-250 sd",
          "subaru impreza",
          "toyota tundra",
          "chevrolet silverado 3500hd",
          "ford f-250 super duty"
         ],
         "xaxis": "x",
         "y": [
          304350,
          298693.5,
          288450,
          283300,
          270150,
          258236.625,
          254707.5,
          254326.9,
          250000,
          249475.66666666666
         ],
         "yaxis": "y"
        }
       ],
       "layout": {
        "legend": {
         "tracegroupgap": 0
        },
        "template": {
         "data": {
          "bar": [
           {
            "error_x": {
             "color": "#2a3f5f"
            },
            "error_y": {
             "color": "#2a3f5f"
            },
            "marker": {
             "line": {
              "color": "#E5ECF6",
              "width": 0.5
             },
             "pattern": {
              "fillmode": "overlay",
              "size": 10,
              "solidity": 0.2
             }
            },
            "type": "bar"
           }
          ],
          "barpolar": [
           {
            "marker": {
             "line": {
              "color": "#E5ECF6",
              "width": 0.5
             },
             "pattern": {
              "fillmode": "overlay",
              "size": 10,
              "solidity": 0.2
             }
            },
            "type": "barpolar"
           }
          ],
          "carpet": [
           {
            "aaxis": {
             "endlinecolor": "#2a3f5f",
             "gridcolor": "white",
             "linecolor": "white",
             "minorgridcolor": "white",
             "startlinecolor": "#2a3f5f"
            },
            "baxis": {
             "endlinecolor": "#2a3f5f",
             "gridcolor": "white",
             "linecolor": "white",
             "minorgridcolor": "white",
             "startlinecolor": "#2a3f5f"
            },
            "type": "carpet"
           }
          ],
          "choropleth": [
           {
            "colorbar": {
             "outlinewidth": 0,
             "ticks": ""
            },
            "type": "choropleth"
           }
          ],
          "contour": [
           {
            "colorbar": {
             "outlinewidth": 0,
             "ticks": ""
            },
            "colorscale": [
             [
              0,
              "#0d0887"
             ],
             [
              0.1111111111111111,
              "#46039f"
             ],
             [
              0.2222222222222222,
              "#7201a8"
             ],
             [
              0.3333333333333333,
              "#9c179e"
             ],
             [
              0.4444444444444444,
              "#bd3786"
             ],
             [
              0.5555555555555556,
              "#d8576b"
             ],
             [
              0.6666666666666666,
              "#ed7953"
             ],
             [
              0.7777777777777778,
              "#fb9f3a"
             ],
             [
              0.8888888888888888,
              "#fdca26"
             ],
             [
              1,
              "#f0f921"
             ]
            ],
            "type": "contour"
           }
          ],
          "contourcarpet": [
           {
            "colorbar": {
             "outlinewidth": 0,
             "ticks": ""
            },
            "type": "contourcarpet"
           }
          ],
          "heatmap": [
           {
            "colorbar": {
             "outlinewidth": 0,
             "ticks": ""
            },
            "colorscale": [
             [
              0,
              "#0d0887"
             ],
             [
              0.1111111111111111,
              "#46039f"
             ],
             [
              0.2222222222222222,
              "#7201a8"
             ],
             [
              0.3333333333333333,
              "#9c179e"
             ],
             [
              0.4444444444444444,
              "#bd3786"
             ],
             [
              0.5555555555555556,
              "#d8576b"
             ],
             [
              0.6666666666666666,
              "#ed7953"
             ],
             [
              0.7777777777777778,
              "#fb9f3a"
             ],
             [
              0.8888888888888888,
              "#fdca26"
             ],
             [
              1,
              "#f0f921"
             ]
            ],
            "type": "heatmap"
           }
          ],
          "heatmapgl": [
           {
            "colorbar": {
             "outlinewidth": 0,
             "ticks": ""
            },
            "colorscale": [
             [
              0,
              "#0d0887"
             ],
             [
              0.1111111111111111,
              "#46039f"
             ],
             [
              0.2222222222222222,
              "#7201a8"
             ],
             [
              0.3333333333333333,
              "#9c179e"
             ],
             [
              0.4444444444444444,
              "#bd3786"
             ],
             [
              0.5555555555555556,
              "#d8576b"
             ],
             [
              0.6666666666666666,
              "#ed7953"
             ],
             [
              0.7777777777777778,
              "#fb9f3a"
             ],
             [
              0.8888888888888888,
              "#fdca26"
             ],
             [
              1,
              "#f0f921"
             ]
            ],
            "type": "heatmapgl"
           }
          ],
          "histogram": [
           {
            "marker": {
             "pattern": {
              "fillmode": "overlay",
              "size": 10,
              "solidity": 0.2
             }
            },
            "type": "histogram"
           }
          ],
          "histogram2d": [
           {
            "colorbar": {
             "outlinewidth": 0,
             "ticks": ""
            },
            "colorscale": [
             [
              0,
              "#0d0887"
             ],
             [
              0.1111111111111111,
              "#46039f"
             ],
             [
              0.2222222222222222,
              "#7201a8"
             ],
             [
              0.3333333333333333,
              "#9c179e"
             ],
             [
              0.4444444444444444,
              "#bd3786"
             ],
             [
              0.5555555555555556,
              "#d8576b"
             ],
             [
              0.6666666666666666,
              "#ed7953"
             ],
             [
              0.7777777777777778,
              "#fb9f3a"
             ],
             [
              0.8888888888888888,
              "#fdca26"
             ],
             [
              1,
              "#f0f921"
             ]
            ],
            "type": "histogram2d"
           }
          ],
          "histogram2dcontour": [
           {
            "colorbar": {
             "outlinewidth": 0,
             "ticks": ""
            },
            "colorscale": [
             [
              0,
              "#0d0887"
             ],
             [
              0.1111111111111111,
              "#46039f"
             ],
             [
              0.2222222222222222,
              "#7201a8"
             ],
             [
              0.3333333333333333,
              "#9c179e"
             ],
             [
              0.4444444444444444,
              "#bd3786"
             ],
             [
              0.5555555555555556,
              "#d8576b"
             ],
             [
              0.6666666666666666,
              "#ed7953"
             ],
             [
              0.7777777777777778,
              "#fb9f3a"
             ],
             [
              0.8888888888888888,
              "#fdca26"
             ],
             [
              1,
              "#f0f921"
             ]
            ],
            "type": "histogram2dcontour"
           }
          ],
          "mesh3d": [
           {
            "colorbar": {
             "outlinewidth": 0,
             "ticks": ""
            },
            "type": "mesh3d"
           }
          ],
          "parcoords": [
           {
            "line": {
             "colorbar": {
              "outlinewidth": 0,
              "ticks": ""
             }
            },
            "type": "parcoords"
           }
          ],
          "pie": [
           {
            "automargin": true,
            "type": "pie"
           }
          ],
          "scatter": [
           {
            "fillpattern": {
             "fillmode": "overlay",
             "size": 10,
             "solidity": 0.2
            },
            "type": "scatter"
           }
          ],
          "scatter3d": [
           {
            "line": {
             "colorbar": {
              "outlinewidth": 0,
              "ticks": ""
             }
            },
            "marker": {
             "colorbar": {
              "outlinewidth": 0,
              "ticks": ""
             }
            },
            "type": "scatter3d"
           }
          ],
          "scattercarpet": [
           {
            "marker": {
             "colorbar": {
              "outlinewidth": 0,
              "ticks": ""
             }
            },
            "type": "scattercarpet"
           }
          ],
          "scattergeo": [
           {
            "marker": {
             "colorbar": {
              "outlinewidth": 0,
              "ticks": ""
             }
            },
            "type": "scattergeo"
           }
          ],
          "scattergl": [
           {
            "marker": {
             "colorbar": {
              "outlinewidth": 0,
              "ticks": ""
             }
            },
            "type": "scattergl"
           }
          ],
          "scattermapbox": [
           {
            "marker": {
             "colorbar": {
              "outlinewidth": 0,
              "ticks": ""
             }
            },
            "type": "scattermapbox"
           }
          ],
          "scatterpolar": [
           {
            "marker": {
             "colorbar": {
              "outlinewidth": 0,
              "ticks": ""
             }
            },
            "type": "scatterpolar"
           }
          ],
          "scatterpolargl": [
           {
            "marker": {
             "colorbar": {
              "outlinewidth": 0,
              "ticks": ""
             }
            },
            "type": "scatterpolargl"
           }
          ],
          "scatterternary": [
           {
            "marker": {
             "colorbar": {
              "outlinewidth": 0,
              "ticks": ""
             }
            },
            "type": "scatterternary"
           }
          ],
          "surface": [
           {
            "colorbar": {
             "outlinewidth": 0,
             "ticks": ""
            },
            "colorscale": [
             [
              0,
              "#0d0887"
             ],
             [
              0.1111111111111111,
              "#46039f"
             ],
             [
              0.2222222222222222,
              "#7201a8"
             ],
             [
              0.3333333333333333,
              "#9c179e"
             ],
             [
              0.4444444444444444,
              "#bd3786"
             ],
             [
              0.5555555555555556,
              "#d8576b"
             ],
             [
              0.6666666666666666,
              "#ed7953"
             ],
             [
              0.7777777777777778,
              "#fb9f3a"
             ],
             [
              0.8888888888888888,
              "#fdca26"
             ],
             [
              1,
              "#f0f921"
             ]
            ],
            "type": "surface"
           }
          ],
          "table": [
           {
            "cells": {
             "fill": {
              "color": "#EBF0F8"
             },
             "line": {
              "color": "white"
             }
            },
            "header": {
             "fill": {
              "color": "#C8D4E3"
             },
             "line": {
              "color": "white"
             }
            },
            "type": "table"
           }
          ]
         },
         "layout": {
          "annotationdefaults": {
           "arrowcolor": "#2a3f5f",
           "arrowhead": 0,
           "arrowwidth": 1
          },
          "autotypenumbers": "strict",
          "coloraxis": {
           "colorbar": {
            "outlinewidth": 0,
            "ticks": ""
           }
          },
          "colorscale": {
           "diverging": [
            [
             0,
             "#8e0152"
            ],
            [
             0.1,
             "#c51b7d"
            ],
            [
             0.2,
             "#de77ae"
            ],
            [
             0.3,
             "#f1b6da"
            ],
            [
             0.4,
             "#fde0ef"
            ],
            [
             0.5,
             "#f7f7f7"
            ],
            [
             0.6,
             "#e6f5d0"
            ],
            [
             0.7,
             "#b8e186"
            ],
            [
             0.8,
             "#7fbc41"
            ],
            [
             0.9,
             "#4d9221"
            ],
            [
             1,
             "#276419"
            ]
           ],
           "sequential": [
            [
             0,
             "#0d0887"
            ],
            [
             0.1111111111111111,
             "#46039f"
            ],
            [
             0.2222222222222222,
             "#7201a8"
            ],
            [
             0.3333333333333333,
             "#9c179e"
            ],
            [
             0.4444444444444444,
             "#bd3786"
            ],
            [
             0.5555555555555556,
             "#d8576b"
            ],
            [
             0.6666666666666666,
             "#ed7953"
            ],
            [
             0.7777777777777778,
             "#fb9f3a"
            ],
            [
             0.8888888888888888,
             "#fdca26"
            ],
            [
             1,
             "#f0f921"
            ]
           ],
           "sequentialminus": [
            [
             0,
             "#0d0887"
            ],
            [
             0.1111111111111111,
             "#46039f"
            ],
            [
             0.2222222222222222,
             "#7201a8"
            ],
            [
             0.3333333333333333,
             "#9c179e"
            ],
            [
             0.4444444444444444,
             "#bd3786"
            ],
            [
             0.5555555555555556,
             "#d8576b"
            ],
            [
             0.6666666666666666,
             "#ed7953"
            ],
            [
             0.7777777777777778,
             "#fb9f3a"
            ],
            [
             0.8888888888888888,
             "#fdca26"
            ],
            [
             1,
             "#f0f921"
            ]
           ]
          },
          "colorway": [
           "#636efa",
           "#EF553B",
           "#00cc96",
           "#ab63fa",
           "#FFA15A",
           "#19d3f3",
           "#FF6692",
           "#B6E880",
           "#FF97FF",
           "#FECB52"
          ],
          "font": {
           "color": "#2a3f5f"
          },
          "geo": {
           "bgcolor": "white",
           "lakecolor": "white",
           "landcolor": "#E5ECF6",
           "showlakes": true,
           "showland": true,
           "subunitcolor": "white"
          },
          "hoverlabel": {
           "align": "left"
          },
          "hovermode": "closest",
          "mapbox": {
           "style": "light"
          },
          "paper_bgcolor": "white",
          "plot_bgcolor": "#E5ECF6",
          "polar": {
           "angularaxis": {
            "gridcolor": "white",
            "linecolor": "white",
            "ticks": ""
           },
           "bgcolor": "#E5ECF6",
           "radialaxis": {
            "gridcolor": "white",
            "linecolor": "white",
            "ticks": ""
           }
          },
          "scene": {
           "xaxis": {
            "backgroundcolor": "#E5ECF6",
            "gridcolor": "white",
            "gridwidth": 2,
            "linecolor": "white",
            "showbackground": true,
            "ticks": "",
            "zerolinecolor": "white"
           },
           "yaxis": {
            "backgroundcolor": "#E5ECF6",
            "gridcolor": "white",
            "gridwidth": 2,
            "linecolor": "white",
            "showbackground": true,
            "ticks": "",
            "zerolinecolor": "white"
           },
           "zaxis": {
            "backgroundcolor": "#E5ECF6",
            "gridcolor": "white",
            "gridwidth": 2,
            "linecolor": "white",
            "showbackground": true,
            "ticks": "",
            "zerolinecolor": "white"
           }
          },
          "shapedefaults": {
           "line": {
            "color": "#2a3f5f"
           }
          },
          "ternary": {
           "aaxis": {
            "gridcolor": "white",
            "linecolor": "white",
            "ticks": ""
           },
           "baxis": {
            "gridcolor": "white",
            "linecolor": "white",
            "ticks": ""
           },
           "bgcolor": "#E5ECF6",
           "caxis": {
            "gridcolor": "white",
            "linecolor": "white",
            "ticks": ""
           }
          },
          "title": {
           "x": 0.05
          },
          "xaxis": {
           "automargin": true,
           "gridcolor": "white",
           "linecolor": "white",
           "ticks": "",
           "title": {
            "standoff": 15
           },
           "zerolinecolor": "white",
           "zerolinewidth": 2
          },
          "yaxis": {
           "automargin": true,
           "gridcolor": "white",
           "linecolor": "white",
           "ticks": "",
           "title": {
            "standoff": 15
           },
           "zerolinecolor": "white",
           "zerolinewidth": 2
          }
         }
        },
        "title": {
         "text": "Average Miles of Make/Models of Top 10 Cars Models"
        },
        "xaxis": {
         "anchor": "y",
         "domain": [
          0,
          1
         ],
         "title": {
          "text": "Car Model"
         }
        },
        "yaxis": {
         "anchor": "x",
         "domain": [
          0,
          1
         ],
         "range": [
          240000,
          320000
         ],
         "title": {
          "text": "Average Miles"
         }
        }
       }
      }
     },
     "metadata": {},
     "output_type": "display_data"
    }
   ],
   "source": [
    "fig = px.scatter(top_10_df, x='model', y = 'average_miles', title='Average Miles of Make/Models of Top 10 Cars Models', labels={'model': 'Car Model', 'average_miles': 'Average Miles'}, range_y=[240000, 320000])\n",
    "fig.show()"
   ]
  },
  {
   "cell_type": "markdown",
   "metadata": {},
   "source": [
    "## Histogram of Makes of Cars that offer Manual Transmissions"
   ]
  },
  {
   "cell_type": "code",
   "execution_count": 96,
   "metadata": {},
   "outputs": [
    {
     "data": {
      "application/vnd.plotly.v1+json": {
       "config": {
        "plotlyServerURL": "https://plot.ly"
       },
       "data": [
        {
         "alignmentgroup": "True",
         "bingroup": "x",
         "hovertemplate": "Car Model=%{x}<br>count=%{y}<extra></extra>",
         "legendgroup": "",
         "marker": {
          "color": "#636efa",
          "pattern": {
           "shape": ""
          }
         },
         "name": "",
         "offsetgroup": "",
         "orientation": "v",
         "showlegend": false,
         "type": "histogram",
         "x": [
          "kia",
          "ford",
          "chevrolet",
          "chevrolet",
          "ford",
          "hyundai",
          "honda",
          "volkswagen",
          "honda",
          "toyota",
          "chevrolet",
          "volkswagen",
          "chevrolet",
          "kia",
          "nissan",
          "toyota",
          "ford",
          "ford",
          "jeep",
          "toyota",
          "nissan",
          "jeep",
          "kia",
          "ford",
          "volkswagen",
          "chevrolet",
          "jeep",
          "subaru",
          "jeep",
          "nissan",
          "chevrolet",
          "ford",
          "ford",
          "jeep",
          "nissan",
          "jeep",
          "honda",
          "volkswagen",
          "chevrolet",
          "ford",
          "volkswagen",
          "ford",
          "honda",
          "chevrolet",
          "nissan",
          "honda",
          "ford",
          "ram",
          "ford",
          "subaru",
          "ford",
          "ford",
          "nissan",
          "ford",
          "jeep",
          "jeep",
          "ram",
          "kia",
          "ford",
          "hyundai",
          "toyota",
          "ford",
          "volkswagen",
          "toyota",
          "ram",
          "ram",
          "ford",
          "kia",
          "ram",
          "honda",
          "ford",
          "toyota",
          "honda",
          "subaru",
          "ford",
          "jeep",
          "hyundai",
          "jeep",
          "nissan",
          "ram",
          "ram",
          "jeep",
          "ram",
          "subaru",
          "ram",
          "toyota",
          "jeep",
          "ford",
          "honda",
          "subaru",
          "ford",
          "honda",
          "ford",
          "ford",
          "jeep",
          "volkswagen",
          "kia",
          "toyota",
          "subaru",
          "nissan",
          "ford",
          "toyota",
          "chevrolet",
          "toyota",
          "volkswagen",
          "dodge",
          "jeep",
          "chevrolet",
          "honda",
          "chevrolet",
          "chevrolet",
          "subaru",
          "ram",
          "chevrolet",
          "ford",
          "subaru",
          "chevrolet",
          "ram",
          "ford",
          "ford",
          "chevrolet",
          "toyota",
          "jeep",
          "jeep",
          "ford",
          "jeep",
          "ram",
          "nissan",
          "chevrolet",
          "chevrolet",
          "subaru",
          "volkswagen",
          "nissan",
          "subaru",
          "ram",
          "chevrolet",
          "subaru",
          "ford",
          "ford",
          "hyundai",
          "jeep",
          "honda",
          "subaru",
          "ford",
          "jeep",
          "toyota",
          "toyota",
          "jeep",
          "jeep",
          "ford",
          "honda",
          "ford",
          "toyota",
          "nissan",
          "honda",
          "ford",
          "jeep",
          "ford",
          "chevrolet",
          "nissan",
          "jeep",
          "gmc",
          "nissan",
          "ram",
          "honda",
          "toyota",
          "subaru",
          "gmc",
          "ford",
          "kia",
          "jeep",
          "ford",
          "chevrolet",
          "toyota",
          "jeep",
          "jeep",
          "chevrolet",
          "toyota",
          "ford",
          "jeep",
          "jeep",
          "subaru",
          "jeep",
          "honda",
          "ford",
          "volkswagen",
          "ford",
          "chevrolet",
          "ram",
          "jeep",
          "jeep",
          "subaru",
          "toyota",
          "volkswagen",
          "chevrolet",
          "cadillac",
          "honda",
          "ford",
          "ford",
          "ford",
          "toyota",
          "ford",
          "chevrolet",
          "ford",
          "toyota",
          "volkswagen",
          "ford",
          "honda",
          "ram",
          "chevrolet",
          "ford",
          "jeep",
          "ford",
          "gmc",
          "kia",
          "jeep",
          "jeep",
          "ford",
          "volkswagen",
          "chevrolet",
          "ford",
          "ford",
          "ford",
          "chevrolet",
          "dodge",
          "jeep",
          "ford",
          "ford",
          "toyota",
          "nissan",
          "chevrolet",
          "chevrolet",
          "ford",
          "hyundai",
          "nissan",
          "jeep",
          "chevrolet",
          "honda",
          "kia",
          "ford",
          "nissan",
          "chevrolet",
          "ford",
          "ford",
          "chevrolet",
          "jeep",
          "toyota",
          "ford",
          "ram",
          "chevrolet",
          "honda",
          "jeep",
          "ram",
          "chevrolet",
          "chevrolet",
          "honda",
          "subaru",
          "ford",
          "jeep",
          "ram",
          "jeep",
          "ram",
          "ram",
          "ford",
          "honda",
          "chevrolet",
          "ford",
          "kia",
          "toyota",
          "toyota",
          "chevrolet",
          "ford",
          "honda",
          "ram",
          "subaru",
          "nissan",
          "jeep",
          "nissan",
          "subaru",
          "toyota",
          "chevrolet",
          "honda",
          "jeep",
          "honda",
          "ford",
          "ford",
          "toyota",
          "nissan",
          "toyota",
          "honda",
          "jeep",
          "toyota",
          "ram",
          "ford",
          "chevrolet",
          "chevrolet",
          "jeep",
          "chevrolet",
          "ford",
          "ford",
          "hyundai",
          "honda",
          "honda",
          "ford",
          "honda",
          "jeep",
          "ram",
          "ford",
          "volkswagen",
          "toyota",
          "subaru",
          "bmw",
          "chevrolet",
          "jeep",
          "ford",
          "ford",
          "nissan",
          "ford",
          "toyota",
          "chevrolet",
          "toyota",
          "toyota",
          "subaru",
          "chevrolet",
          "subaru",
          "ford",
          "hyundai",
          "ford",
          "volkswagen",
          "subaru",
          "toyota",
          "jeep",
          "subaru",
          "jeep",
          "subaru",
          "jeep",
          "nissan",
          "ford",
          "subaru",
          "chevrolet",
          "chevrolet",
          "ford",
          "jeep",
          "honda",
          "ford",
          "ram",
          "nissan",
          "honda",
          "ford",
          "honda",
          "subaru",
          "dodge",
          "chevrolet",
          "ford",
          "ford",
          "ford",
          "chevrolet",
          "ford",
          "toyota",
          "honda",
          "ford",
          "jeep",
          "chevrolet",
          "ford",
          "toyota",
          "subaru",
          "honda",
          "ford",
          "subaru",
          "honda",
          "jeep",
          "ford",
          "chevrolet",
          "honda",
          "ford",
          "ford",
          "nissan",
          "jeep",
          "jeep",
          "jeep",
          "ram",
          "jeep",
          "ram",
          "chevrolet",
          "subaru",
          "ford",
          "ford",
          "jeep",
          "subaru",
          "ford",
          "ford",
          "jeep",
          "chevrolet",
          "volkswagen",
          "ford",
          "ram",
          "toyota",
          "volkswagen",
          "subaru",
          "chevrolet",
          "jeep",
          "ford",
          "jeep",
          "honda",
          "jeep",
          "nissan",
          "chevrolet",
          "ford",
          "ford",
          "honda",
          "ford",
          "jeep",
          "jeep",
          "jeep",
          "ford",
          "toyota",
          "jeep",
          "jeep",
          "jeep",
          "ford",
          "ram",
          "jeep",
          "jeep",
          "chevrolet",
          "honda",
          "ford",
          "jeep",
          "ford",
          "ford",
          "subaru",
          "jeep",
          "subaru",
          "jeep",
          "jeep",
          "chevrolet",
          "ford",
          "jeep",
          "ford",
          "nissan",
          "toyota",
          "ford",
          "jeep",
          "toyota",
          "chevrolet",
          "honda",
          "jeep",
          "toyota",
          "ram",
          "chevrolet",
          "ford",
          "ford",
          "ram",
          "ram",
          "jeep",
          "jeep",
          "ford",
          "ram",
          "jeep",
          "subaru",
          "jeep",
          "jeep",
          "nissan",
          "jeep",
          "kia",
          "hyundai",
          "ram",
          "chevrolet",
          "ford",
          "chevrolet",
          "chevrolet",
          "ford",
          "toyota",
          "ford",
          "toyota",
          "ford",
          "toyota",
          "acura",
          "jeep",
          "ford",
          "jeep",
          "dodge",
          "jeep",
          "toyota",
          "honda",
          "subaru",
          "hyundai",
          "ford",
          "ford",
          "ford",
          "toyota",
          "toyota",
          "nissan",
          "jeep",
          "toyota",
          "toyota",
          "jeep",
          "volkswagen",
          "ford",
          "toyota",
          "jeep",
          "jeep",
          "ford",
          "ford",
          "ram",
          "subaru",
          "nissan",
          "jeep",
          "honda",
          "ford",
          "ford",
          "honda",
          "honda",
          "ford",
          "ford",
          "jeep",
          "ford",
          "ram",
          "jeep",
          "volkswagen",
          "jeep",
          "ram",
          "ford",
          "toyota",
          "ford",
          "chevrolet",
          "honda",
          "chevrolet",
          "nissan",
          "chevrolet",
          "ford",
          "ford",
          "hyundai",
          "jeep",
          "honda",
          "ford",
          "chevrolet",
          "ford",
          "nissan",
          "ford",
          "ford",
          "ford",
          "nissan",
          "ford",
          "volkswagen",
          "ford",
          "jeep",
          "ram",
          "ford",
          "ford",
          "chevrolet",
          "chevrolet",
          "subaru",
          "ford",
          "ford",
          "hyundai",
          "jeep",
          "subaru",
          "ram",
          "subaru",
          "ford",
          "toyota",
          "ford",
          "ford",
          "ram",
          "ram",
          "chevrolet",
          "toyota",
          "ford",
          "subaru",
          "honda",
          "chevrolet",
          "ford",
          "jeep",
          "jeep",
          "subaru",
          "jeep",
          "chevrolet",
          "ram",
          "ram",
          "jeep",
          "nissan",
          "kia",
          "honda",
          "ford",
          "chevrolet",
          "chevrolet",
          "nissan",
          "toyota",
          "hyundai",
          "jeep",
          "ford",
          "ford",
          "jeep",
          "chevrolet",
          "kia",
          "ford",
          "ford",
          "toyota",
          "nissan",
          "jeep",
          "honda",
          "hyundai",
          "ford",
          "ford",
          "jeep",
          "chevrolet",
          "jeep",
          "toyota",
          "subaru",
          "subaru",
          "chevrolet",
          "honda",
          "jeep",
          "toyota",
          "jeep",
          "ram",
          "toyota",
          "ram",
          "ford",
          "ford",
          "honda",
          "jeep",
          "ford",
          "ford",
          "nissan",
          "bmw",
          "ford",
          "subaru",
          "ford",
          "honda",
          "toyota",
          "ford",
          "jeep",
          "kia",
          "ford",
          "nissan",
          "jeep",
          "chevrolet",
          "honda",
          "nissan",
          "chevrolet",
          "honda",
          "jeep",
          "honda",
          "ford",
          "chevrolet",
          "jeep",
          "jeep",
          "gmc",
          "volkswagen",
          "honda",
          "ford",
          "toyota",
          "jeep",
          "honda",
          "chevrolet",
          "chevrolet",
          "hyundai",
          "ford",
          "volkswagen",
          "chevrolet",
          "dodge",
          "chevrolet",
          "hyundai",
          "nissan",
          "ford",
          "jeep",
          "kia",
          "jeep",
          "chevrolet",
          "jeep",
          "chevrolet",
          "honda",
          "toyota",
          "chevrolet",
          "volkswagen",
          "volkswagen",
          "ford",
          "chevrolet",
          "jeep",
          "subaru",
          "ford",
          "nissan",
          "chevrolet",
          "jeep",
          "ford",
          "ford",
          "ford",
          "ford",
          "chevrolet",
          "chevrolet",
          "ford",
          "ram",
          "ford",
          "volkswagen",
          "jeep",
          "ford",
          "jeep",
          "ford",
          "ford",
          "nissan",
          "jeep",
          "toyota",
          "toyota",
          "honda",
          "chevrolet",
          "chevrolet",
          "jeep",
          "volkswagen",
          "volkswagen",
          "subaru",
          "toyota",
          "chevrolet",
          "ford",
          "nissan",
          "honda",
          "ford",
          "chevrolet",
          "jeep",
          "jeep",
          "jeep",
          "subaru",
          "ford",
          "subaru",
          "kia",
          "ford",
          "ram",
          "honda",
          "toyota",
          "nissan",
          "toyota",
          "honda",
          "kia",
          "toyota",
          "ford",
          "jeep",
          "chevrolet",
          "ram",
          "toyota",
          "honda",
          "volkswagen",
          "ram",
          "ford",
          "chevrolet",
          "ram",
          "ram",
          "honda",
          "ford",
          "chevrolet",
          "kia",
          "ram",
          "kia",
          "ford",
          "ram",
          "chevrolet",
          "ford",
          "chevrolet",
          "jeep",
          "honda",
          "hyundai",
          "toyota",
          "jeep",
          "toyota",
          "nissan",
          "ford",
          "ford",
          "chevrolet",
          "ford",
          "chevrolet",
          "jeep",
          "ram",
          "kia",
          "volkswagen",
          "toyota",
          "chevrolet",
          "chevrolet",
          "ford",
          "chevrolet",
          "volkswagen",
          "hyundai",
          "honda",
          "chevrolet",
          "ford",
          "ford",
          "subaru",
          "nissan",
          "jeep",
          "ford",
          "ford",
          "chevrolet",
          "ram",
          "ram",
          "toyota",
          "subaru",
          "hyundai",
          "ford",
          "ford",
          "ford",
          "hyundai",
          "ford",
          "ford",
          "ford",
          "honda",
          "honda",
          "chevrolet",
          "nissan",
          "ford",
          "ram",
          "chevrolet",
          "toyota",
          "nissan",
          "chevrolet",
          "subaru",
          "honda",
          "honda",
          "jeep",
          "nissan",
          "nissan",
          "chevrolet",
          "chevrolet",
          "honda",
          "ford",
          "ford",
          "ford",
          "ford",
          "ford",
          "toyota",
          "kia",
          "ford",
          "honda",
          "chevrolet",
          "ford",
          "ford",
          "jeep",
          "ford",
          "jeep",
          "honda",
          "ford",
          "ford",
          "jeep",
          "chevrolet",
          "jeep",
          "honda",
          "chevrolet",
          "ford",
          "ford",
          "ford",
          "ram",
          "ford",
          "ford",
          "chevrolet",
          "ford",
          "ram",
          "toyota",
          "ford",
          "ford",
          "ford",
          "ford",
          "chrysler",
          "chevrolet",
          "toyota",
          "chevrolet",
          "ford",
          "ford",
          "toyota",
          "subaru",
          "honda",
          "honda",
          "ford",
          "chevrolet",
          "volkswagen",
          "chevrolet",
          "toyota",
          "jeep",
          "jeep",
          "chevrolet",
          "chevrolet",
          "subaru",
          "kia",
          "toyota",
          "ford",
          "chevrolet",
          "chevrolet",
          "chevrolet",
          "chevrolet",
          "subaru",
          "ford",
          "chevrolet",
          "chevrolet",
          "kia",
          "chevrolet",
          "ram",
          "chevrolet",
          "hyundai",
          "chevrolet",
          "jeep",
          "ford",
          "ram",
          "jeep",
          "chevrolet",
          "chevrolet",
          "ford",
          "ford",
          "dodge",
          "ram",
          "ford",
          "jeep",
          "jeep",
          "ram",
          "ram",
          "hyundai",
          "subaru",
          "chevrolet",
          "honda",
          "ford",
          "toyota",
          "kia",
          "toyota",
          "subaru",
          "subaru",
          "subaru",
          "subaru",
          "ford",
          "ford",
          "ford",
          "honda",
          "chevrolet",
          "chevrolet",
          "toyota",
          "chevrolet",
          "subaru",
          "ram",
          "jeep",
          "ford",
          "honda",
          "jeep",
          "jeep",
          "ford",
          "ford",
          "toyota",
          "volkswagen",
          "ram",
          "honda",
          "jeep",
          "chevrolet",
          "jeep",
          "chevrolet",
          "ford",
          "chevrolet",
          "ford",
          "ford",
          "chevrolet",
          "ford",
          "volkswagen",
          "chevrolet",
          "jeep",
          "ram",
          "ford",
          "kia",
          "ram",
          "volkswagen",
          "jeep",
          "chevrolet",
          "ford",
          "chevrolet",
          "toyota",
          "jeep",
          "nissan",
          "nissan",
          "jeep",
          "kia",
          "ford",
          "honda",
          "ford",
          "ram",
          "kia",
          "ford",
          "chevrolet",
          "jeep",
          "nissan",
          "jeep",
          "jeep",
          "toyota",
          "chevrolet",
          "jeep",
          "chevrolet",
          "honda",
          "jeep",
          "ram",
          "toyota",
          "chevrolet",
          "jeep",
          "honda",
          "subaru",
          "toyota",
          "honda",
          "acura",
          "ford",
          "honda",
          "volkswagen",
          "chevrolet",
          "ford",
          "subaru",
          "subaru",
          "toyota",
          "chevrolet",
          "jeep",
          "chevrolet",
          "volkswagen",
          "toyota",
          "jeep",
          "gmc",
          "jeep",
          "jeep",
          "jeep",
          "jeep",
          "jeep",
          "kia",
          "volkswagen",
          "ram",
          "ford",
          "chevrolet",
          "volkswagen",
          "honda",
          "ford",
          "jeep",
          "volkswagen",
          "chevrolet",
          "volkswagen",
          "honda",
          "ford",
          "subaru",
          "volkswagen",
          "ford",
          "volkswagen",
          "chevrolet",
          "honda",
          "honda",
          "jeep",
          "ram",
          "nissan",
          "jeep",
          "ford",
          "toyota",
          "ford",
          "jeep",
          "ford",
          "ford",
          "ford",
          "ford",
          "honda",
          "honda",
          "honda",
          "jeep",
          "subaru",
          "chevrolet",
          "jeep",
          "nissan",
          "bmw",
          "ford",
          "ford",
          "jeep",
          "ford",
          "ford",
          "subaru",
          "toyota",
          "toyota",
          "ford",
          "honda",
          "ford",
          "ford",
          "ford",
          "subaru",
          "chevrolet",
          "ford",
          "chevrolet",
          "jeep",
          "jeep",
          "toyota",
          "chevrolet",
          "honda",
          "kia",
          "honda",
          "dodge",
          "kia",
          "chevrolet",
          "volkswagen",
          "toyota",
          "hyundai",
          "nissan",
          "jeep",
          "nissan",
          "hyundai",
          "jeep",
          "toyota",
          "honda",
          "ford",
          "ford",
          "honda",
          "hyundai",
          "ford",
          "ram",
          "nissan",
          "ford",
          "ford",
          "ram",
          "ford",
          "toyota",
          "ford",
          "chevrolet",
          "jeep",
          "volkswagen",
          "ford",
          "ford",
          "chevrolet",
          "toyota",
          "ford",
          "ford",
          "subaru",
          "honda",
          "ford",
          "honda",
          "jeep",
          "honda",
          "jeep",
          "ford",
          "chevrolet",
          "subaru",
          "ford",
          "gmc",
          "ford",
          "ford",
          "chevrolet",
          "chevrolet",
          "ford",
          "jeep",
          "honda",
          "jeep",
          "ford",
          "chevrolet",
          "honda",
          "jeep",
          "ford",
          "ford",
          "ford",
          "gmc",
          "ford",
          "ford",
          "jeep",
          "toyota",
          "jeep",
          "ford",
          "ford",
          "jeep",
          "honda",
          "chevrolet",
          "ram",
          "nissan",
          "ford",
          "jeep",
          "chevrolet",
          "ford",
          "ford",
          "jeep",
          "chevrolet",
          "toyota",
          "chevrolet",
          "jeep",
          "gmc",
          "honda",
          "chevrolet",
          "chevrolet",
          "jeep",
          "nissan",
          "jeep",
          "toyota",
          "jeep",
          "ford",
          "honda",
          "ford",
          "honda",
          "jeep",
          "jeep",
          "ford",
          "jeep",
          "jeep",
          "volkswagen",
          "ram",
          "ford",
          "jeep",
          "ford",
          "ford",
          "chevrolet",
          "ford",
          "nissan",
          "chevrolet",
          "toyota",
          "chevrolet",
          "nissan",
          "chevrolet",
          "ram",
          "ford",
          "ford",
          "bmw",
          "ford",
          "toyota",
          "ford",
          "honda",
          "chevrolet",
          "ford",
          "chevrolet",
          "honda",
          "nissan",
          "kia",
          "ford",
          "ford",
          "volkswagen",
          "ford",
          "ford",
          "toyota",
          "kia",
          "chevrolet",
          "hyundai",
          "jeep",
          "toyota",
          "jeep",
          "jeep",
          "ford",
          "toyota",
          "kia",
          "ram",
          "ford",
          "ford",
          "nissan",
          "jeep",
          "ford",
          "jeep",
          "jeep",
          "chevrolet",
          "ford",
          "jeep",
          "chevrolet",
          "ford",
          "nissan",
          "ford",
          "ford",
          "jeep",
          "nissan",
          "ram",
          "ford",
          "toyota",
          "nissan",
          "jeep",
          "jeep",
          "ford",
          "ford",
          "chevrolet",
          "ford",
          "toyota",
          "toyota",
          "ford",
          "ford",
          "nissan",
          "chevrolet",
          "chevrolet",
          "toyota",
          "chevrolet",
          "toyota",
          "ford",
          "ford",
          "volkswagen",
          "ford",
          "toyota",
          "chevrolet",
          "honda",
          "ford",
          "toyota",
          "honda",
          "chevrolet",
          "ford",
          "ford",
          "nissan",
          "toyota",
          "ram",
          "ford",
          "ford",
          "subaru",
          "subaru",
          "jeep",
          "subaru",
          "nissan",
          "ford",
          "nissan",
          "toyota",
          "toyota",
          "jeep",
          "jeep",
          "honda",
          "ram",
          "subaru",
          "nissan",
          "ford",
          "nissan",
          "jeep",
          "honda",
          "chevrolet",
          "toyota",
          "ford",
          "ford",
          "ford",
          "toyota",
          "chevrolet",
          "ford",
          "honda",
          "chevrolet",
          "chevrolet",
          "nissan",
          "jeep",
          "ford",
          "subaru",
          "honda",
          "subaru",
          "jeep",
          "subaru",
          "chevrolet",
          "volkswagen",
          "ford",
          "ford",
          "chevrolet",
          "toyota",
          "toyota",
          "jeep",
          "jeep",
          "jeep",
          "gmc",
          "chevrolet",
          "ford",
          "jeep",
          "chevrolet",
          "jeep",
          "nissan",
          "jeep",
          "jeep",
          "ford",
          "jeep",
          "honda",
          "toyota",
          "honda",
          "ford",
          "honda",
          "toyota",
          "toyota",
          "jeep",
          "jeep",
          "toyota",
          "ford",
          "toyota",
          "honda",
          "chevrolet",
          "hyundai",
          "ram",
          "gmc",
          "nissan",
          "chevrolet",
          "ford",
          "chevrolet",
          "ford",
          "chevrolet",
          "bmw",
          "ford",
          "chevrolet",
          "jeep",
          "ford",
          "chevrolet",
          "toyota",
          "chevrolet",
          "honda",
          "hyundai",
          "honda",
          "subaru",
          "ford",
          "jeep",
          "toyota",
          "dodge",
          "jeep",
          "kia",
          "chevrolet",
          "jeep",
          "jeep",
          "jeep",
          "jeep",
          "subaru",
          "nissan",
          "subaru",
          "jeep",
          "chevrolet",
          "ford",
          "jeep",
          "ford",
          "jeep",
          "chevrolet",
          "subaru",
          "honda",
          "jeep",
          "kia",
          "subaru",
          "toyota",
          "chevrolet",
          "ram",
          "honda",
          "ford",
          "chevrolet",
          "jeep",
          "chevrolet",
          "jeep",
          "ram",
          "cadillac",
          "subaru",
          "volkswagen",
          "subaru",
          "subaru",
          "toyota",
          "jeep",
          "jeep",
          "jeep",
          "ford",
          "jeep",
          "toyota",
          "volkswagen",
          "jeep",
          "gmc",
          "jeep",
          "jeep",
          "volkswagen",
          "jeep",
          "volkswagen",
          "jeep",
          "toyota",
          "jeep",
          "honda",
          "chevrolet",
          "acura",
          "honda",
          "jeep",
          "jeep",
          "ford",
          "chevrolet",
          "ram",
          "ford",
          "ford",
          "ford",
          "ford",
          "ram",
          "subaru",
          "chevrolet",
          "ford",
          "chevrolet",
          "hyundai",
          "chevrolet",
          "honda",
          "ford",
          "jeep",
          "ford",
          "ford",
          "ford",
          "chevrolet",
          "volkswagen",
          "ford",
          "ford",
          "ford",
          "ford",
          "honda",
          "chevrolet",
          "toyota",
          "toyota",
          "volkswagen",
          "ford",
          "ford",
          "jeep",
          "ford",
          "ford",
          "toyota",
          "ford",
          "nissan",
          "subaru",
          "jeep",
          "honda",
          "volkswagen",
          "ford",
          "hyundai",
          "chevrolet",
          "ram",
          "chevrolet",
          "toyota",
          "ford",
          "ram",
          "gmc",
          "ford",
          "ram",
          "jeep",
          "honda",
          "acura",
          "jeep",
          "toyota",
          "jeep",
          "ford",
          "ford",
          "chevrolet",
          "ford",
          "ford",
          "honda",
          "kia",
          "chevrolet",
          "jeep",
          "volkswagen",
          "jeep",
          "toyota",
          "ford",
          "honda",
          "dodge",
          "chevrolet",
          "honda",
          "nissan",
          "subaru",
          "honda",
          "ford",
          "ford",
          "chevrolet",
          "ford",
          "chevrolet",
          "ram",
          "jeep",
          "subaru",
          "jeep",
          "jeep",
          "dodge",
          "ford",
          "honda",
          "jeep",
          "honda",
          "toyota",
          "jeep",
          "toyota",
          "subaru",
          "honda",
          "chevrolet",
          "jeep",
          "toyota",
          "subaru",
          "subaru",
          "chevrolet",
          "ford",
          "ram",
          "chevrolet",
          "chevrolet",
          "jeep",
          "subaru",
          "toyota",
          "chevrolet",
          "chevrolet",
          "jeep",
          "nissan",
          "ford",
          "ford",
          "ram",
          "chevrolet",
          "chevrolet",
          "nissan",
          "nissan",
          "chevrolet",
          "chevrolet",
          "ford",
          "subaru",
          "subaru",
          "ram",
          "ford",
          "chevrolet",
          "jeep",
          "honda",
          "nissan",
          "ford",
          "toyota",
          "honda",
          "toyota",
          "volkswagen",
          "dodge",
          "jeep",
          "volkswagen",
          "jeep",
          "ford",
          "ford",
          "ford",
          "subaru",
          "ram",
          "jeep",
          "ford",
          "subaru",
          "jeep",
          "jeep",
          "jeep",
          "toyota",
          "chevrolet",
          "ram",
          "jeep",
          "chevrolet",
          "ram",
          "chevrolet",
          "toyota",
          "jeep",
          "toyota",
          "volkswagen",
          "toyota",
          "subaru",
          "ford",
          "toyota",
          "nissan",
          "toyota",
          "honda",
          "chevrolet",
          "subaru",
          "subaru",
          "jeep",
          "ford",
          "toyota",
          "gmc",
          "volkswagen",
          "chevrolet",
          "toyota",
          "honda",
          "honda",
          "toyota",
          "jeep",
          "toyota",
          "chevrolet",
          "kia",
          "kia",
          "ram",
          "ram",
          "ford",
          "honda",
          "subaru",
          "subaru",
          "jeep",
          "ram",
          "kia",
          "jeep",
          "toyota",
          "chevrolet",
          "ford",
          "honda",
          "kia",
          "chevrolet",
          "ford",
          "toyota",
          "volkswagen",
          "jeep",
          "chevrolet",
          "jeep",
          "toyota",
          "volkswagen",
          "chevrolet",
          "toyota",
          "ford",
          "ford",
          "chevrolet",
          "chevrolet",
          "honda",
          "ford",
          "chevrolet",
          "subaru",
          "volkswagen",
          "jeep",
          "chevrolet",
          "honda",
          "chevrolet",
          "subaru",
          "ford",
          "jeep",
          "ram",
          "toyota",
          "jeep",
          "ford",
          "jeep",
          "jeep",
          "hyundai",
          "ram",
          "honda",
          "ford",
          "toyota",
          "volkswagen",
          "jeep",
          "subaru",
          "honda",
          "nissan",
          "jeep",
          "kia",
          "ford",
          "toyota",
          "gmc",
          "jeep",
          "honda",
          "jeep",
          "ford",
          "kia",
          "honda",
          "chevrolet",
          "ford",
          "ram",
          "jeep",
          "nissan",
          "ford",
          "chevrolet",
          "ford",
          "jeep",
          "chevrolet",
          "kia",
          "chevrolet",
          "chevrolet",
          "volkswagen",
          "volkswagen",
          "nissan",
          "chevrolet",
          "chevrolet",
          "ford",
          "ford",
          "honda",
          "chevrolet",
          "chevrolet",
          "ford",
          "chevrolet",
          "chevrolet",
          "honda",
          "kia",
          "kia",
          "volkswagen",
          "jeep",
          "ford",
          "jeep",
          "subaru",
          "kia",
          "ford",
          "chevrolet",
          "ford",
          "ram",
          "jeep",
          "ford",
          "volkswagen",
          "ford",
          "jeep",
          "toyota",
          "ford",
          "volkswagen",
          "ford",
          "jeep",
          "jeep",
          "ram",
          "ram",
          "jeep",
          "chevrolet",
          "honda",
          "toyota",
          "ford",
          "subaru",
          "jeep",
          "jeep",
          "ram",
          "jeep",
          "ford",
          "ford",
          "ford",
          "ford",
          "nissan",
          "jeep",
          "toyota",
          "toyota",
          "jeep",
          "chevrolet",
          "ford",
          "ford",
          "chevrolet",
          "chevrolet",
          "ford",
          "volkswagen",
          "jeep",
          "toyota",
          "ford",
          "chevrolet",
          "kia",
          "ram",
          "jeep",
          "ram",
          "jeep",
          "toyota",
          "toyota",
          "toyota",
          "chevrolet",
          "honda",
          "subaru",
          "toyota",
          "ford",
          "volkswagen",
          "toyota",
          "ford",
          "honda",
          "volkswagen",
          "jeep",
          "ford",
          "volkswagen",
          "ram",
          "jeep",
          "ford",
          "subaru",
          "ram",
          "dodge",
          "jeep",
          "subaru",
          "acura",
          "gmc",
          "ford",
          "toyota",
          "ram",
          "ford",
          "ford",
          "honda",
          "jeep",
          "nissan",
          "ram",
          "honda",
          "nissan",
          "ford",
          "chevrolet",
          "ford",
          "hyundai",
          "nissan",
          "ford",
          "ford",
          "ram",
          "ford",
          "chevrolet",
          "ram",
          "chevrolet",
          "ford",
          "ford",
          "toyota",
          "ford",
          "toyota",
          "jeep",
          "chevrolet",
          "kia",
          "chevrolet",
          "hyundai",
          "ford",
          "ram",
          "honda",
          "subaru",
          "kia",
          "subaru",
          "subaru",
          "toyota",
          "toyota",
          "chevrolet",
          "ford",
          "jeep",
          "toyota",
          "jeep",
          "jeep",
          "ford",
          "toyota",
          "jeep",
          "subaru",
          "chevrolet",
          "chevrolet",
          "jeep",
          "ford",
          "subaru",
          "ford",
          "jeep",
          "ford",
          "ford",
          "toyota",
          "subaru",
          "ford",
          "jeep",
          "volkswagen",
          "hyundai",
          "subaru",
          "nissan",
          "ram",
          "ram",
          "ford",
          "toyota",
          "subaru",
          "ford",
          "jeep",
          "ford",
          "ford",
          "jeep",
          "jeep",
          "chevrolet",
          "ford",
          "dodge",
          "dodge",
          "volkswagen",
          "ram",
          "dodge",
          "ford",
          "ford",
          "volkswagen",
          "toyota",
          "volkswagen",
          "nissan",
          "nissan",
          "honda",
          "chevrolet",
          "ford",
          "nissan",
          "toyota",
          "ford",
          "ford",
          "chevrolet",
          "chevrolet",
          "kia",
          "subaru",
          "nissan",
          "ram",
          "ford",
          "ford",
          "honda",
          "toyota",
          "jeep",
          "subaru",
          "chevrolet",
          "ford",
          "kia",
          "ford",
          "jeep",
          "ford",
          "chevrolet",
          "volkswagen",
          "volkswagen",
          "jeep",
          "jeep",
          "toyota",
          "jeep",
          "chevrolet",
          "jeep",
          "honda",
          "chevrolet",
          "toyota",
          "honda",
          "dodge",
          "nissan",
          "dodge",
          "chevrolet",
          "chevrolet",
          "ford",
          "jeep",
          "chevrolet",
          "ford",
          "jeep",
          "subaru",
          "chevrolet",
          "honda",
          "ford",
          "jeep",
          "ford",
          "ford",
          "chevrolet",
          "jeep",
          "chevrolet",
          "hyundai",
          "kia",
          "ford",
          "ram",
          "ford",
          "jeep",
          "ford",
          "subaru",
          "ford",
          "toyota",
          "chevrolet",
          "hyundai",
          "ram",
          "chevrolet",
          "toyota",
          "toyota",
          "kia",
          "jeep",
          "hyundai",
          "jeep",
          "ford",
          "jeep",
          "jeep",
          "toyota",
          "chevrolet",
          "toyota",
          "ford",
          "toyota",
          "volkswagen",
          "jeep",
          "toyota",
          "ford",
          "subaru",
          "ford",
          "volkswagen",
          "jeep",
          "jeep",
          "ford",
          "subaru",
          "chevrolet",
          "subaru",
          "chevrolet",
          "ram",
          "jeep",
          "honda",
          "jeep",
          "chevrolet",
          "jeep",
          "toyota",
          "jeep",
          "jeep",
          "chevrolet",
          "ram",
          "toyota",
          "kia",
          "toyota",
          "chevrolet",
          "ford",
          "subaru",
          "ram",
          "ford",
          "subaru",
          "gmc",
          "ford",
          "chevrolet",
          "toyota",
          "hyundai",
          "ford",
          "toyota",
          "gmc",
          "ford",
          "ford",
          "ford",
          "jeep",
          "jeep",
          "toyota",
          "ford",
          "toyota",
          "honda",
          "jeep",
          "kia",
          "toyota",
          "ford",
          "ford",
          "ram",
          "ram",
          "ram",
          "jeep",
          "ford",
          "toyota",
          "ford",
          "subaru",
          "jeep",
          "toyota",
          "ford",
          "nissan",
          "volkswagen",
          "subaru",
          "subaru",
          "honda",
          "jeep",
          "ram",
          "ram",
          "volkswagen",
          "jeep",
          "ford",
          "toyota",
          "ram",
          "ram",
          "ford",
          "kia",
          "volkswagen",
          "subaru",
          "volkswagen",
          "ford",
          "ram",
          "hyundai",
          "honda",
          "jeep",
          "chevrolet",
          "hyundai",
          "subaru",
          "gmc",
          "jeep",
          "chevrolet",
          "nissan",
          "ford",
          "gmc",
          "ram",
          "ford",
          "subaru",
          "hyundai",
          "ford",
          "nissan",
          "subaru",
          "jeep",
          "volkswagen",
          "toyota",
          "ram",
          "toyota",
          "honda",
          "honda",
          "honda",
          "jeep",
          "toyota",
          "subaru",
          "subaru",
          "nissan",
          "hyundai",
          "honda",
          "toyota",
          "volkswagen",
          "chevrolet",
          "volkswagen",
          "ford",
          "ram",
          "chevrolet",
          "toyota",
          "chevrolet",
          "ford",
          "jeep",
          "honda",
          "jeep",
          "toyota",
          "toyota",
          "subaru",
          "toyota",
          "ram",
          "volkswagen",
          "jeep",
          "dodge",
          "toyota",
          "ford",
          "volkswagen",
          "volkswagen",
          "nissan",
          "jeep",
          "subaru",
          "jeep",
          "jeep",
          "subaru",
          "ram",
          "hyundai",
          "chevrolet",
          "chevrolet",
          "honda",
          "jeep",
          "toyota",
          "ford",
          "ford",
          "ford",
          "chevrolet",
          "honda",
          "ford",
          "toyota",
          "ford",
          "chevrolet",
          "ford",
          "ford",
          "toyota",
          "dodge",
          "ford",
          "chevrolet",
          "honda",
          "ford",
          "gmc",
          "jeep",
          "ford",
          "chevrolet",
          "jeep",
          "ford",
          "toyota",
          "chevrolet",
          "toyota",
          "honda",
          "ram",
          "chevrolet",
          "subaru",
          "ford",
          "jeep",
          "ford",
          "honda",
          "honda",
          "subaru",
          "ford",
          "chevrolet",
          "subaru",
          "subaru",
          "kia",
          "ford",
          "jeep",
          "chevrolet",
          "honda",
          "chevrolet",
          "subaru",
          "ford",
          "chevrolet",
          "ford",
          "ford",
          "chevrolet",
          "toyota",
          "jeep",
          "jeep",
          "ford",
          "ford",
          "ford",
          "jeep",
          "chevrolet",
          "buick",
          "nissan",
          "jeep",
          "gmc",
          "kia",
          "chevrolet",
          "nissan",
          "volkswagen",
          "volkswagen",
          "subaru",
          "ford",
          "subaru",
          "ford",
          "ford",
          "ford",
          "jeep",
          "ford",
          "ford",
          "chevrolet",
          "jeep",
          "ford",
          "ford",
          "ford",
          "chevrolet",
          "ram",
          "subaru",
          "ford",
          "ford",
          "chevrolet",
          "ram",
          "chevrolet",
          "ram",
          "jeep",
          "chevrolet",
          "ford",
          "chevrolet",
          "jeep",
          "chevrolet",
          "ford",
          "hyundai",
          "jeep",
          "nissan",
          "jeep",
          "ford",
          "subaru",
          "jeep",
          "honda",
          "dodge",
          "honda",
          "acura",
          "jeep",
          "ford",
          "subaru",
          "jeep",
          "toyota",
          "ford",
          "ford",
          "chevrolet",
          "jeep",
          "ram",
          "jeep",
          "subaru",
          "ford",
          "ford",
          "ford",
          "ford",
          "ford",
          "dodge",
          "subaru",
          "jeep",
          "honda",
          "acura",
          "toyota",
          "nissan",
          "ford",
          "jeep",
          "toyota",
          "ford",
          "jeep",
          "ram",
          "jeep",
          "ford",
          "honda",
          "chevrolet",
          "honda",
          "jeep",
          "subaru",
          "chevrolet",
          "ford",
          "jeep",
          "jeep",
          "ford",
          "chevrolet",
          "ford",
          "toyota",
          "subaru",
          "chevrolet",
          "honda",
          "toyota",
          "chevrolet",
          "ford",
          "kia",
          "honda",
          "acura",
          "chevrolet",
          "ford",
          "toyota",
          "hyundai",
          "hyundai",
          "ford",
          "jeep",
          "toyota",
          "jeep",
          "jeep",
          "jeep",
          "jeep",
          "ram",
          "hyundai",
          "subaru",
          "ford",
          "toyota",
          "subaru",
          "ram",
          "jeep",
          "ford",
          "subaru",
          "toyota",
          "honda",
          "ford",
          "kia",
          "ford",
          "ford",
          "chevrolet",
          "jeep",
          "dodge",
          "chevrolet",
          "chevrolet",
          "hyundai",
          "ram",
          "toyota",
          "chevrolet",
          "jeep",
          "chevrolet",
          "ford",
          "chevrolet",
          "ford",
          "ford",
          "jeep",
          "chevrolet",
          "subaru",
          "jeep",
          "jeep",
          "ford",
          "jeep",
          "toyota",
          "ford",
          "chevrolet",
          "jeep",
          "ram",
          "chevrolet",
          "chevrolet",
          "jeep",
          "subaru",
          "subaru",
          "toyota",
          "honda",
          "ford",
          "hyundai",
          "ford",
          "honda",
          "toyota",
          "jeep",
          "ford",
          "honda",
          "ram",
          "volkswagen",
          "chevrolet",
          "chevrolet",
          "ford",
          "ford",
          "honda",
          "subaru",
          "chevrolet",
          "jeep",
          "toyota",
          "jeep",
          "toyota",
          "volkswagen",
          "subaru",
          "ram",
          "honda",
          "toyota",
          "jeep",
          "ford",
          "chevrolet",
          "jeep",
          "toyota",
          "jeep",
          "jeep",
          "ford",
          "ram",
          "ford",
          "jeep",
          "volkswagen",
          "toyota",
          "nissan",
          "volkswagen",
          "subaru",
          "chevrolet",
          "jeep",
          "honda",
          "jeep",
          "subaru",
          "toyota",
          "ford",
          "ram",
          "chevrolet",
          "jeep",
          "subaru",
          "chevrolet",
          "ram",
          "honda",
          "ram",
          "ram",
          "chevrolet",
          "ford",
          "chevrolet",
          "toyota",
          "toyota",
          "ford",
          "hyundai",
          "honda",
          "honda",
          "ram",
          "jeep",
          "jeep",
          "jeep",
          "ford",
          "jeep",
          "jeep",
          "ford",
          "volkswagen",
          "honda",
          "nissan",
          "honda",
          "chevrolet",
          "volkswagen",
          "jeep",
          "ford",
          "ford",
          "honda",
          "toyota",
          "chevrolet",
          "chevrolet",
          "ram",
          "chevrolet",
          "ford",
          "toyota",
          "ford",
          "subaru",
          "toyota",
          "ford",
          "ford",
          "subaru",
          "toyota",
          "honda",
          "chevrolet",
          "ram",
          "ford",
          "subaru",
          "ford",
          "kia",
          "jeep",
          "jeep",
          "ford",
          "jeep",
          "honda",
          "subaru",
          "jeep",
          "ford",
          "toyota",
          "nissan",
          "chevrolet",
          "subaru",
          "chevrolet",
          "ford",
          "chevrolet",
          "chevrolet",
          "honda",
          "nissan",
          "subaru",
          "chevrolet",
          "volkswagen",
          "honda",
          "chevrolet",
          "ford",
          "gmc",
          "ford",
          "jeep",
          "nissan",
          "toyota",
          "jeep",
          "ford",
          "ford",
          "ford",
          "ford",
          "jeep",
          "jeep",
          "ford",
          "jeep",
          "honda",
          "toyota",
          "jeep",
          "jeep",
          "jeep",
          "honda",
          "subaru",
          "ford",
          "ford",
          "jeep",
          "kia",
          "jeep",
          "ram",
          "ford",
          "ford",
          "ford",
          "ford",
          "jeep",
          "ford",
          "jeep",
          "jeep",
          "ford",
          "volkswagen",
          "ford",
          "jeep",
          "chevrolet",
          "ford",
          "ford",
          "chevrolet",
          "ford",
          "jeep",
          "jeep",
          "ford",
          "ram",
          "nissan",
          "ford",
          "toyota",
          "chevrolet",
          "jeep",
          "ford",
          "honda",
          "honda",
          "chevrolet",
          "subaru",
          "ford",
          "chevrolet",
          "honda",
          "toyota",
          "ford",
          "nissan",
          "jeep",
          "jeep",
          "ford",
          "ford",
          "toyota",
          "chevrolet",
          "toyota",
          "toyota",
          "ford",
          "kia",
          "honda",
          "jeep",
          "ram",
          "toyota",
          "toyota",
          "volkswagen",
          "ford",
          "ram",
          "hyundai",
          "jeep",
          "ram",
          "volkswagen",
          "chevrolet",
          "volkswagen",
          "toyota",
          "honda",
          "toyota",
          "volkswagen",
          "ford",
          "volkswagen",
          "honda",
          "jeep",
          "chevrolet",
          "ford",
          "ford",
          "jeep",
          "jeep",
          "jeep",
          "jeep",
          "jeep",
          "volkswagen",
          "kia",
          "nissan",
          "honda",
          "volkswagen",
          "ram",
          "ford",
          "volkswagen",
          "jeep",
          "jeep",
          "ram",
          "subaru",
          "ram",
          "chevrolet",
          "ford",
          "volkswagen",
          "honda",
          "hyundai",
          "toyota",
          "ford",
          "chevrolet",
          "dodge",
          "jeep",
          "ford",
          "volkswagen",
          "ford",
          "chevrolet",
          "ford",
          "ram",
          "chevrolet",
          "ford",
          "chevrolet",
          "subaru",
          "ram",
          "chevrolet",
          "hyundai",
          "chevrolet",
          "ford",
          "chevrolet",
          "volkswagen",
          "ford",
          "ford",
          "chevrolet",
          "subaru",
          "ford",
          "ford",
          "ford",
          "ford",
          "ford",
          "toyota",
          "nissan",
          "jeep",
          "ford",
          "chevrolet",
          "ford",
          "ford",
          "honda",
          "jeep",
          "volkswagen",
          "toyota",
          "ford",
          "ram",
          "chevrolet",
          "dodge",
          "ford",
          "ford",
          "toyota",
          "dodge",
          "chevrolet",
          "chevrolet",
          "ford",
          "jeep",
          "jeep",
          "toyota",
          "jeep",
          "chevrolet",
          "ford",
          "ford",
          "chevrolet",
          "ford",
          "ford",
          "ford",
          "ford",
          "chevrolet",
          "ford",
          "subaru",
          "jeep",
          "ford",
          "ford",
          "chevrolet",
          "nissan",
          "ford",
          "ram",
          "ford",
          "subaru",
          "chevrolet",
          "chevrolet",
          "ford",
          "ford",
          "chevrolet",
          "ford",
          "chevrolet",
          "honda",
          "jeep",
          "chevrolet",
          "gmc",
          "honda",
          "jeep",
          "ford",
          "ram",
          "jeep",
          "toyota",
          "toyota",
          "chevrolet",
          "ford",
          "jeep",
          "jeep",
          "subaru",
          "ram",
          "volkswagen",
          "nissan",
          "honda",
          "ford",
          "chevrolet",
          "subaru",
          "ford",
          "toyota",
          "ford",
          "subaru",
          "kia",
          "chevrolet",
          "jeep",
          "bmw",
          "toyota",
          "kia",
          "toyota",
          "chevrolet",
          "ford",
          "jeep",
          "chevrolet",
          "kia",
          "ford",
          "subaru",
          "chevrolet",
          "ford",
          "chevrolet",
          "chevrolet",
          "chevrolet",
          "ford",
          "kia",
          "ram",
          "kia",
          "toyota",
          "honda",
          "ford",
          "jeep",
          "chevrolet",
          "jeep",
          "ram",
          "volkswagen",
          "jeep",
          "gmc",
          "jeep",
          "nissan",
          "subaru",
          "chevrolet",
          "buick",
          "chevrolet",
          "toyota",
          "nissan",
          "subaru",
          "jeep",
          "ford",
          "toyota",
          "honda",
          "ford",
          "toyota",
          "jeep",
          "nissan",
          "jeep",
          "jeep",
          "jeep",
          "ford",
          "honda",
          "dodge",
          "toyota",
          "ford",
          "toyota",
          "toyota",
          "ram",
          "subaru",
          "jeep",
          "subaru",
          "kia",
          "volkswagen",
          "hyundai",
          "ram",
          "subaru",
          "toyota",
          "ford",
          "dodge",
          "ford",
          "jeep",
          "toyota",
          "ford",
          "jeep",
          "toyota",
          "toyota",
          "ford",
          "ford",
          "subaru"
         ],
         "xaxis": "x",
         "yaxis": "y"
        }
       ],
       "layout": {
        "barmode": "relative",
        "legend": {
         "tracegroupgap": 0
        },
        "template": {
         "data": {
          "bar": [
           {
            "error_x": {
             "color": "#2a3f5f"
            },
            "error_y": {
             "color": "#2a3f5f"
            },
            "marker": {
             "line": {
              "color": "#E5ECF6",
              "width": 0.5
             },
             "pattern": {
              "fillmode": "overlay",
              "size": 10,
              "solidity": 0.2
             }
            },
            "type": "bar"
           }
          ],
          "barpolar": [
           {
            "marker": {
             "line": {
              "color": "#E5ECF6",
              "width": 0.5
             },
             "pattern": {
              "fillmode": "overlay",
              "size": 10,
              "solidity": 0.2
             }
            },
            "type": "barpolar"
           }
          ],
          "carpet": [
           {
            "aaxis": {
             "endlinecolor": "#2a3f5f",
             "gridcolor": "white",
             "linecolor": "white",
             "minorgridcolor": "white",
             "startlinecolor": "#2a3f5f"
            },
            "baxis": {
             "endlinecolor": "#2a3f5f",
             "gridcolor": "white",
             "linecolor": "white",
             "minorgridcolor": "white",
             "startlinecolor": "#2a3f5f"
            },
            "type": "carpet"
           }
          ],
          "choropleth": [
           {
            "colorbar": {
             "outlinewidth": 0,
             "ticks": ""
            },
            "type": "choropleth"
           }
          ],
          "contour": [
           {
            "colorbar": {
             "outlinewidth": 0,
             "ticks": ""
            },
            "colorscale": [
             [
              0,
              "#0d0887"
             ],
             [
              0.1111111111111111,
              "#46039f"
             ],
             [
              0.2222222222222222,
              "#7201a8"
             ],
             [
              0.3333333333333333,
              "#9c179e"
             ],
             [
              0.4444444444444444,
              "#bd3786"
             ],
             [
              0.5555555555555556,
              "#d8576b"
             ],
             [
              0.6666666666666666,
              "#ed7953"
             ],
             [
              0.7777777777777778,
              "#fb9f3a"
             ],
             [
              0.8888888888888888,
              "#fdca26"
             ],
             [
              1,
              "#f0f921"
             ]
            ],
            "type": "contour"
           }
          ],
          "contourcarpet": [
           {
            "colorbar": {
             "outlinewidth": 0,
             "ticks": ""
            },
            "type": "contourcarpet"
           }
          ],
          "heatmap": [
           {
            "colorbar": {
             "outlinewidth": 0,
             "ticks": ""
            },
            "colorscale": [
             [
              0,
              "#0d0887"
             ],
             [
              0.1111111111111111,
              "#46039f"
             ],
             [
              0.2222222222222222,
              "#7201a8"
             ],
             [
              0.3333333333333333,
              "#9c179e"
             ],
             [
              0.4444444444444444,
              "#bd3786"
             ],
             [
              0.5555555555555556,
              "#d8576b"
             ],
             [
              0.6666666666666666,
              "#ed7953"
             ],
             [
              0.7777777777777778,
              "#fb9f3a"
             ],
             [
              0.8888888888888888,
              "#fdca26"
             ],
             [
              1,
              "#f0f921"
             ]
            ],
            "type": "heatmap"
           }
          ],
          "heatmapgl": [
           {
            "colorbar": {
             "outlinewidth": 0,
             "ticks": ""
            },
            "colorscale": [
             [
              0,
              "#0d0887"
             ],
             [
              0.1111111111111111,
              "#46039f"
             ],
             [
              0.2222222222222222,
              "#7201a8"
             ],
             [
              0.3333333333333333,
              "#9c179e"
             ],
             [
              0.4444444444444444,
              "#bd3786"
             ],
             [
              0.5555555555555556,
              "#d8576b"
             ],
             [
              0.6666666666666666,
              "#ed7953"
             ],
             [
              0.7777777777777778,
              "#fb9f3a"
             ],
             [
              0.8888888888888888,
              "#fdca26"
             ],
             [
              1,
              "#f0f921"
             ]
            ],
            "type": "heatmapgl"
           }
          ],
          "histogram": [
           {
            "marker": {
             "pattern": {
              "fillmode": "overlay",
              "size": 10,
              "solidity": 0.2
             }
            },
            "type": "histogram"
           }
          ],
          "histogram2d": [
           {
            "colorbar": {
             "outlinewidth": 0,
             "ticks": ""
            },
            "colorscale": [
             [
              0,
              "#0d0887"
             ],
             [
              0.1111111111111111,
              "#46039f"
             ],
             [
              0.2222222222222222,
              "#7201a8"
             ],
             [
              0.3333333333333333,
              "#9c179e"
             ],
             [
              0.4444444444444444,
              "#bd3786"
             ],
             [
              0.5555555555555556,
              "#d8576b"
             ],
             [
              0.6666666666666666,
              "#ed7953"
             ],
             [
              0.7777777777777778,
              "#fb9f3a"
             ],
             [
              0.8888888888888888,
              "#fdca26"
             ],
             [
              1,
              "#f0f921"
             ]
            ],
            "type": "histogram2d"
           }
          ],
          "histogram2dcontour": [
           {
            "colorbar": {
             "outlinewidth": 0,
             "ticks": ""
            },
            "colorscale": [
             [
              0,
              "#0d0887"
             ],
             [
              0.1111111111111111,
              "#46039f"
             ],
             [
              0.2222222222222222,
              "#7201a8"
             ],
             [
              0.3333333333333333,
              "#9c179e"
             ],
             [
              0.4444444444444444,
              "#bd3786"
             ],
             [
              0.5555555555555556,
              "#d8576b"
             ],
             [
              0.6666666666666666,
              "#ed7953"
             ],
             [
              0.7777777777777778,
              "#fb9f3a"
             ],
             [
              0.8888888888888888,
              "#fdca26"
             ],
             [
              1,
              "#f0f921"
             ]
            ],
            "type": "histogram2dcontour"
           }
          ],
          "mesh3d": [
           {
            "colorbar": {
             "outlinewidth": 0,
             "ticks": ""
            },
            "type": "mesh3d"
           }
          ],
          "parcoords": [
           {
            "line": {
             "colorbar": {
              "outlinewidth": 0,
              "ticks": ""
             }
            },
            "type": "parcoords"
           }
          ],
          "pie": [
           {
            "automargin": true,
            "type": "pie"
           }
          ],
          "scatter": [
           {
            "fillpattern": {
             "fillmode": "overlay",
             "size": 10,
             "solidity": 0.2
            },
            "type": "scatter"
           }
          ],
          "scatter3d": [
           {
            "line": {
             "colorbar": {
              "outlinewidth": 0,
              "ticks": ""
             }
            },
            "marker": {
             "colorbar": {
              "outlinewidth": 0,
              "ticks": ""
             }
            },
            "type": "scatter3d"
           }
          ],
          "scattercarpet": [
           {
            "marker": {
             "colorbar": {
              "outlinewidth": 0,
              "ticks": ""
             }
            },
            "type": "scattercarpet"
           }
          ],
          "scattergeo": [
           {
            "marker": {
             "colorbar": {
              "outlinewidth": 0,
              "ticks": ""
             }
            },
            "type": "scattergeo"
           }
          ],
          "scattergl": [
           {
            "marker": {
             "colorbar": {
              "outlinewidth": 0,
              "ticks": ""
             }
            },
            "type": "scattergl"
           }
          ],
          "scattermapbox": [
           {
            "marker": {
             "colorbar": {
              "outlinewidth": 0,
              "ticks": ""
             }
            },
            "type": "scattermapbox"
           }
          ],
          "scatterpolar": [
           {
            "marker": {
             "colorbar": {
              "outlinewidth": 0,
              "ticks": ""
             }
            },
            "type": "scatterpolar"
           }
          ],
          "scatterpolargl": [
           {
            "marker": {
             "colorbar": {
              "outlinewidth": 0,
              "ticks": ""
             }
            },
            "type": "scatterpolargl"
           }
          ],
          "scatterternary": [
           {
            "marker": {
             "colorbar": {
              "outlinewidth": 0,
              "ticks": ""
             }
            },
            "type": "scatterternary"
           }
          ],
          "surface": [
           {
            "colorbar": {
             "outlinewidth": 0,
             "ticks": ""
            },
            "colorscale": [
             [
              0,
              "#0d0887"
             ],
             [
              0.1111111111111111,
              "#46039f"
             ],
             [
              0.2222222222222222,
              "#7201a8"
             ],
             [
              0.3333333333333333,
              "#9c179e"
             ],
             [
              0.4444444444444444,
              "#bd3786"
             ],
             [
              0.5555555555555556,
              "#d8576b"
             ],
             [
              0.6666666666666666,
              "#ed7953"
             ],
             [
              0.7777777777777778,
              "#fb9f3a"
             ],
             [
              0.8888888888888888,
              "#fdca26"
             ],
             [
              1,
              "#f0f921"
             ]
            ],
            "type": "surface"
           }
          ],
          "table": [
           {
            "cells": {
             "fill": {
              "color": "#EBF0F8"
             },
             "line": {
              "color": "white"
             }
            },
            "header": {
             "fill": {
              "color": "#C8D4E3"
             },
             "line": {
              "color": "white"
             }
            },
            "type": "table"
           }
          ]
         },
         "layout": {
          "annotationdefaults": {
           "arrowcolor": "#2a3f5f",
           "arrowhead": 0,
           "arrowwidth": 1
          },
          "autotypenumbers": "strict",
          "coloraxis": {
           "colorbar": {
            "outlinewidth": 0,
            "ticks": ""
           }
          },
          "colorscale": {
           "diverging": [
            [
             0,
             "#8e0152"
            ],
            [
             0.1,
             "#c51b7d"
            ],
            [
             0.2,
             "#de77ae"
            ],
            [
             0.3,
             "#f1b6da"
            ],
            [
             0.4,
             "#fde0ef"
            ],
            [
             0.5,
             "#f7f7f7"
            ],
            [
             0.6,
             "#e6f5d0"
            ],
            [
             0.7,
             "#b8e186"
            ],
            [
             0.8,
             "#7fbc41"
            ],
            [
             0.9,
             "#4d9221"
            ],
            [
             1,
             "#276419"
            ]
           ],
           "sequential": [
            [
             0,
             "#0d0887"
            ],
            [
             0.1111111111111111,
             "#46039f"
            ],
            [
             0.2222222222222222,
             "#7201a8"
            ],
            [
             0.3333333333333333,
             "#9c179e"
            ],
            [
             0.4444444444444444,
             "#bd3786"
            ],
            [
             0.5555555555555556,
             "#d8576b"
            ],
            [
             0.6666666666666666,
             "#ed7953"
            ],
            [
             0.7777777777777778,
             "#fb9f3a"
            ],
            [
             0.8888888888888888,
             "#fdca26"
            ],
            [
             1,
             "#f0f921"
            ]
           ],
           "sequentialminus": [
            [
             0,
             "#0d0887"
            ],
            [
             0.1111111111111111,
             "#46039f"
            ],
            [
             0.2222222222222222,
             "#7201a8"
            ],
            [
             0.3333333333333333,
             "#9c179e"
            ],
            [
             0.4444444444444444,
             "#bd3786"
            ],
            [
             0.5555555555555556,
             "#d8576b"
            ],
            [
             0.6666666666666666,
             "#ed7953"
            ],
            [
             0.7777777777777778,
             "#fb9f3a"
            ],
            [
             0.8888888888888888,
             "#fdca26"
            ],
            [
             1,
             "#f0f921"
            ]
           ]
          },
          "colorway": [
           "#636efa",
           "#EF553B",
           "#00cc96",
           "#ab63fa",
           "#FFA15A",
           "#19d3f3",
           "#FF6692",
           "#B6E880",
           "#FF97FF",
           "#FECB52"
          ],
          "font": {
           "color": "#2a3f5f"
          },
          "geo": {
           "bgcolor": "white",
           "lakecolor": "white",
           "landcolor": "#E5ECF6",
           "showlakes": true,
           "showland": true,
           "subunitcolor": "white"
          },
          "hoverlabel": {
           "align": "left"
          },
          "hovermode": "closest",
          "mapbox": {
           "style": "light"
          },
          "paper_bgcolor": "white",
          "plot_bgcolor": "#E5ECF6",
          "polar": {
           "angularaxis": {
            "gridcolor": "white",
            "linecolor": "white",
            "ticks": ""
           },
           "bgcolor": "#E5ECF6",
           "radialaxis": {
            "gridcolor": "white",
            "linecolor": "white",
            "ticks": ""
           }
          },
          "scene": {
           "xaxis": {
            "backgroundcolor": "#E5ECF6",
            "gridcolor": "white",
            "gridwidth": 2,
            "linecolor": "white",
            "showbackground": true,
            "ticks": "",
            "zerolinecolor": "white"
           },
           "yaxis": {
            "backgroundcolor": "#E5ECF6",
            "gridcolor": "white",
            "gridwidth": 2,
            "linecolor": "white",
            "showbackground": true,
            "ticks": "",
            "zerolinecolor": "white"
           },
           "zaxis": {
            "backgroundcolor": "#E5ECF6",
            "gridcolor": "white",
            "gridwidth": 2,
            "linecolor": "white",
            "showbackground": true,
            "ticks": "",
            "zerolinecolor": "white"
           }
          },
          "shapedefaults": {
           "line": {
            "color": "#2a3f5f"
           }
          },
          "ternary": {
           "aaxis": {
            "gridcolor": "white",
            "linecolor": "white",
            "ticks": ""
           },
           "baxis": {
            "gridcolor": "white",
            "linecolor": "white",
            "ticks": ""
           },
           "bgcolor": "#E5ECF6",
           "caxis": {
            "gridcolor": "white",
            "linecolor": "white",
            "ticks": ""
           }
          },
          "title": {
           "x": 0.05
          },
          "xaxis": {
           "automargin": true,
           "gridcolor": "white",
           "linecolor": "white",
           "ticks": "",
           "title": {
            "standoff": 15
           },
           "zerolinecolor": "white",
           "zerolinewidth": 2
          },
          "yaxis": {
           "automargin": true,
           "gridcolor": "white",
           "linecolor": "white",
           "ticks": "",
           "title": {
            "standoff": 15
           },
           "zerolinecolor": "white",
           "zerolinewidth": 2
          }
         }
        },
        "title": {
         "text": "The Number of Manual Transmission Offered by Makers of Vehicles"
        },
        "xaxis": {
         "anchor": "y",
         "domain": [
          0,
          1
         ],
         "title": {
          "text": "Car Model"
         }
        },
        "yaxis": {
         "anchor": "x",
         "domain": [
          0,
          1
         ],
         "title": {
          "text": "count"
         }
        }
       }
      }
     },
     "metadata": {},
     "output_type": "display_data"
    }
   ],
   "source": [
    "fig = px.histogram(make_vehicle, x='model', title='The Number of Manual Transmission Offered by Makers of Vehicles', labels={'model': 'Car Model', 'count': 'Number of Available Manual Transmissions'})\n",
    "fig.show()"
   ]
  },
  {
   "cell_type": "markdown",
   "metadata": {},
   "source": [
    "## Scatterplot of Makes of Cars that Offer Manual Transmissions"
   ]
  },
  {
   "cell_type": "code",
   "execution_count": 97,
   "metadata": {},
   "outputs": [
    {
     "data": {
      "application/vnd.plotly.v1+json": {
       "config": {
        "plotlyServerURL": "https://plot.ly"
       },
       "data": [
        {
         "hovertemplate": "Car Make=%{x}<br>Available Manual Transmissions=%{y}<extra></extra>",
         "legendgroup": "",
         "marker": {
          "color": "#636efa",
          "symbol": "circle"
         },
         "mode": "markers",
         "name": "",
         "orientation": "v",
         "showlegend": false,
         "type": "scatter",
         "x": [
          "ford",
          "jeep",
          "chevrolet",
          "toyota",
          "honda",
          "subaru",
          "ram",
          "nissan",
          "volkswagen",
          "kia",
          "hyundai",
          "dodge",
          "gmc",
          "acura",
          "bmw",
          "buick",
          "cadillac",
          "chrysler"
         ],
         "xaxis": "x",
         "y": [
          676,
          475,
          400,
          273,
          217,
          186,
          175,
          118,
          116,
          70,
          53,
          27,
          24,
          8,
          6,
          2,
          2,
          1
         ],
         "yaxis": "y"
        }
       ],
       "layout": {
        "legend": {
         "tracegroupgap": 0
        },
        "template": {
         "data": {
          "bar": [
           {
            "error_x": {
             "color": "#2a3f5f"
            },
            "error_y": {
             "color": "#2a3f5f"
            },
            "marker": {
             "line": {
              "color": "#E5ECF6",
              "width": 0.5
             },
             "pattern": {
              "fillmode": "overlay",
              "size": 10,
              "solidity": 0.2
             }
            },
            "type": "bar"
           }
          ],
          "barpolar": [
           {
            "marker": {
             "line": {
              "color": "#E5ECF6",
              "width": 0.5
             },
             "pattern": {
              "fillmode": "overlay",
              "size": 10,
              "solidity": 0.2
             }
            },
            "type": "barpolar"
           }
          ],
          "carpet": [
           {
            "aaxis": {
             "endlinecolor": "#2a3f5f",
             "gridcolor": "white",
             "linecolor": "white",
             "minorgridcolor": "white",
             "startlinecolor": "#2a3f5f"
            },
            "baxis": {
             "endlinecolor": "#2a3f5f",
             "gridcolor": "white",
             "linecolor": "white",
             "minorgridcolor": "white",
             "startlinecolor": "#2a3f5f"
            },
            "type": "carpet"
           }
          ],
          "choropleth": [
           {
            "colorbar": {
             "outlinewidth": 0,
             "ticks": ""
            },
            "type": "choropleth"
           }
          ],
          "contour": [
           {
            "colorbar": {
             "outlinewidth": 0,
             "ticks": ""
            },
            "colorscale": [
             [
              0,
              "#0d0887"
             ],
             [
              0.1111111111111111,
              "#46039f"
             ],
             [
              0.2222222222222222,
              "#7201a8"
             ],
             [
              0.3333333333333333,
              "#9c179e"
             ],
             [
              0.4444444444444444,
              "#bd3786"
             ],
             [
              0.5555555555555556,
              "#d8576b"
             ],
             [
              0.6666666666666666,
              "#ed7953"
             ],
             [
              0.7777777777777778,
              "#fb9f3a"
             ],
             [
              0.8888888888888888,
              "#fdca26"
             ],
             [
              1,
              "#f0f921"
             ]
            ],
            "type": "contour"
           }
          ],
          "contourcarpet": [
           {
            "colorbar": {
             "outlinewidth": 0,
             "ticks": ""
            },
            "type": "contourcarpet"
           }
          ],
          "heatmap": [
           {
            "colorbar": {
             "outlinewidth": 0,
             "ticks": ""
            },
            "colorscale": [
             [
              0,
              "#0d0887"
             ],
             [
              0.1111111111111111,
              "#46039f"
             ],
             [
              0.2222222222222222,
              "#7201a8"
             ],
             [
              0.3333333333333333,
              "#9c179e"
             ],
             [
              0.4444444444444444,
              "#bd3786"
             ],
             [
              0.5555555555555556,
              "#d8576b"
             ],
             [
              0.6666666666666666,
              "#ed7953"
             ],
             [
              0.7777777777777778,
              "#fb9f3a"
             ],
             [
              0.8888888888888888,
              "#fdca26"
             ],
             [
              1,
              "#f0f921"
             ]
            ],
            "type": "heatmap"
           }
          ],
          "heatmapgl": [
           {
            "colorbar": {
             "outlinewidth": 0,
             "ticks": ""
            },
            "colorscale": [
             [
              0,
              "#0d0887"
             ],
             [
              0.1111111111111111,
              "#46039f"
             ],
             [
              0.2222222222222222,
              "#7201a8"
             ],
             [
              0.3333333333333333,
              "#9c179e"
             ],
             [
              0.4444444444444444,
              "#bd3786"
             ],
             [
              0.5555555555555556,
              "#d8576b"
             ],
             [
              0.6666666666666666,
              "#ed7953"
             ],
             [
              0.7777777777777778,
              "#fb9f3a"
             ],
             [
              0.8888888888888888,
              "#fdca26"
             ],
             [
              1,
              "#f0f921"
             ]
            ],
            "type": "heatmapgl"
           }
          ],
          "histogram": [
           {
            "marker": {
             "pattern": {
              "fillmode": "overlay",
              "size": 10,
              "solidity": 0.2
             }
            },
            "type": "histogram"
           }
          ],
          "histogram2d": [
           {
            "colorbar": {
             "outlinewidth": 0,
             "ticks": ""
            },
            "colorscale": [
             [
              0,
              "#0d0887"
             ],
             [
              0.1111111111111111,
              "#46039f"
             ],
             [
              0.2222222222222222,
              "#7201a8"
             ],
             [
              0.3333333333333333,
              "#9c179e"
             ],
             [
              0.4444444444444444,
              "#bd3786"
             ],
             [
              0.5555555555555556,
              "#d8576b"
             ],
             [
              0.6666666666666666,
              "#ed7953"
             ],
             [
              0.7777777777777778,
              "#fb9f3a"
             ],
             [
              0.8888888888888888,
              "#fdca26"
             ],
             [
              1,
              "#f0f921"
             ]
            ],
            "type": "histogram2d"
           }
          ],
          "histogram2dcontour": [
           {
            "colorbar": {
             "outlinewidth": 0,
             "ticks": ""
            },
            "colorscale": [
             [
              0,
              "#0d0887"
             ],
             [
              0.1111111111111111,
              "#46039f"
             ],
             [
              0.2222222222222222,
              "#7201a8"
             ],
             [
              0.3333333333333333,
              "#9c179e"
             ],
             [
              0.4444444444444444,
              "#bd3786"
             ],
             [
              0.5555555555555556,
              "#d8576b"
             ],
             [
              0.6666666666666666,
              "#ed7953"
             ],
             [
              0.7777777777777778,
              "#fb9f3a"
             ],
             [
              0.8888888888888888,
              "#fdca26"
             ],
             [
              1,
              "#f0f921"
             ]
            ],
            "type": "histogram2dcontour"
           }
          ],
          "mesh3d": [
           {
            "colorbar": {
             "outlinewidth": 0,
             "ticks": ""
            },
            "type": "mesh3d"
           }
          ],
          "parcoords": [
           {
            "line": {
             "colorbar": {
              "outlinewidth": 0,
              "ticks": ""
             }
            },
            "type": "parcoords"
           }
          ],
          "pie": [
           {
            "automargin": true,
            "type": "pie"
           }
          ],
          "scatter": [
           {
            "fillpattern": {
             "fillmode": "overlay",
             "size": 10,
             "solidity": 0.2
            },
            "type": "scatter"
           }
          ],
          "scatter3d": [
           {
            "line": {
             "colorbar": {
              "outlinewidth": 0,
              "ticks": ""
             }
            },
            "marker": {
             "colorbar": {
              "outlinewidth": 0,
              "ticks": ""
             }
            },
            "type": "scatter3d"
           }
          ],
          "scattercarpet": [
           {
            "marker": {
             "colorbar": {
              "outlinewidth": 0,
              "ticks": ""
             }
            },
            "type": "scattercarpet"
           }
          ],
          "scattergeo": [
           {
            "marker": {
             "colorbar": {
              "outlinewidth": 0,
              "ticks": ""
             }
            },
            "type": "scattergeo"
           }
          ],
          "scattergl": [
           {
            "marker": {
             "colorbar": {
              "outlinewidth": 0,
              "ticks": ""
             }
            },
            "type": "scattergl"
           }
          ],
          "scattermapbox": [
           {
            "marker": {
             "colorbar": {
              "outlinewidth": 0,
              "ticks": ""
             }
            },
            "type": "scattermapbox"
           }
          ],
          "scatterpolar": [
           {
            "marker": {
             "colorbar": {
              "outlinewidth": 0,
              "ticks": ""
             }
            },
            "type": "scatterpolar"
           }
          ],
          "scatterpolargl": [
           {
            "marker": {
             "colorbar": {
              "outlinewidth": 0,
              "ticks": ""
             }
            },
            "type": "scatterpolargl"
           }
          ],
          "scatterternary": [
           {
            "marker": {
             "colorbar": {
              "outlinewidth": 0,
              "ticks": ""
             }
            },
            "type": "scatterternary"
           }
          ],
          "surface": [
           {
            "colorbar": {
             "outlinewidth": 0,
             "ticks": ""
            },
            "colorscale": [
             [
              0,
              "#0d0887"
             ],
             [
              0.1111111111111111,
              "#46039f"
             ],
             [
              0.2222222222222222,
              "#7201a8"
             ],
             [
              0.3333333333333333,
              "#9c179e"
             ],
             [
              0.4444444444444444,
              "#bd3786"
             ],
             [
              0.5555555555555556,
              "#d8576b"
             ],
             [
              0.6666666666666666,
              "#ed7953"
             ],
             [
              0.7777777777777778,
              "#fb9f3a"
             ],
             [
              0.8888888888888888,
              "#fdca26"
             ],
             [
              1,
              "#f0f921"
             ]
            ],
            "type": "surface"
           }
          ],
          "table": [
           {
            "cells": {
             "fill": {
              "color": "#EBF0F8"
             },
             "line": {
              "color": "white"
             }
            },
            "header": {
             "fill": {
              "color": "#C8D4E3"
             },
             "line": {
              "color": "white"
             }
            },
            "type": "table"
           }
          ]
         },
         "layout": {
          "annotationdefaults": {
           "arrowcolor": "#2a3f5f",
           "arrowhead": 0,
           "arrowwidth": 1
          },
          "autotypenumbers": "strict",
          "coloraxis": {
           "colorbar": {
            "outlinewidth": 0,
            "ticks": ""
           }
          },
          "colorscale": {
           "diverging": [
            [
             0,
             "#8e0152"
            ],
            [
             0.1,
             "#c51b7d"
            ],
            [
             0.2,
             "#de77ae"
            ],
            [
             0.3,
             "#f1b6da"
            ],
            [
             0.4,
             "#fde0ef"
            ],
            [
             0.5,
             "#f7f7f7"
            ],
            [
             0.6,
             "#e6f5d0"
            ],
            [
             0.7,
             "#b8e186"
            ],
            [
             0.8,
             "#7fbc41"
            ],
            [
             0.9,
             "#4d9221"
            ],
            [
             1,
             "#276419"
            ]
           ],
           "sequential": [
            [
             0,
             "#0d0887"
            ],
            [
             0.1111111111111111,
             "#46039f"
            ],
            [
             0.2222222222222222,
             "#7201a8"
            ],
            [
             0.3333333333333333,
             "#9c179e"
            ],
            [
             0.4444444444444444,
             "#bd3786"
            ],
            [
             0.5555555555555556,
             "#d8576b"
            ],
            [
             0.6666666666666666,
             "#ed7953"
            ],
            [
             0.7777777777777778,
             "#fb9f3a"
            ],
            [
             0.8888888888888888,
             "#fdca26"
            ],
            [
             1,
             "#f0f921"
            ]
           ],
           "sequentialminus": [
            [
             0,
             "#0d0887"
            ],
            [
             0.1111111111111111,
             "#46039f"
            ],
            [
             0.2222222222222222,
             "#7201a8"
            ],
            [
             0.3333333333333333,
             "#9c179e"
            ],
            [
             0.4444444444444444,
             "#bd3786"
            ],
            [
             0.5555555555555556,
             "#d8576b"
            ],
            [
             0.6666666666666666,
             "#ed7953"
            ],
            [
             0.7777777777777778,
             "#fb9f3a"
            ],
            [
             0.8888888888888888,
             "#fdca26"
            ],
            [
             1,
             "#f0f921"
            ]
           ]
          },
          "colorway": [
           "#636efa",
           "#EF553B",
           "#00cc96",
           "#ab63fa",
           "#FFA15A",
           "#19d3f3",
           "#FF6692",
           "#B6E880",
           "#FF97FF",
           "#FECB52"
          ],
          "font": {
           "color": "#2a3f5f"
          },
          "geo": {
           "bgcolor": "white",
           "lakecolor": "white",
           "landcolor": "#E5ECF6",
           "showlakes": true,
           "showland": true,
           "subunitcolor": "white"
          },
          "hoverlabel": {
           "align": "left"
          },
          "hovermode": "closest",
          "mapbox": {
           "style": "light"
          },
          "paper_bgcolor": "white",
          "plot_bgcolor": "#E5ECF6",
          "polar": {
           "angularaxis": {
            "gridcolor": "white",
            "linecolor": "white",
            "ticks": ""
           },
           "bgcolor": "#E5ECF6",
           "radialaxis": {
            "gridcolor": "white",
            "linecolor": "white",
            "ticks": ""
           }
          },
          "scene": {
           "xaxis": {
            "backgroundcolor": "#E5ECF6",
            "gridcolor": "white",
            "gridwidth": 2,
            "linecolor": "white",
            "showbackground": true,
            "ticks": "",
            "zerolinecolor": "white"
           },
           "yaxis": {
            "backgroundcolor": "#E5ECF6",
            "gridcolor": "white",
            "gridwidth": 2,
            "linecolor": "white",
            "showbackground": true,
            "ticks": "",
            "zerolinecolor": "white"
           },
           "zaxis": {
            "backgroundcolor": "#E5ECF6",
            "gridcolor": "white",
            "gridwidth": 2,
            "linecolor": "white",
            "showbackground": true,
            "ticks": "",
            "zerolinecolor": "white"
           }
          },
          "shapedefaults": {
           "line": {
            "color": "#2a3f5f"
           }
          },
          "ternary": {
           "aaxis": {
            "gridcolor": "white",
            "linecolor": "white",
            "ticks": ""
           },
           "baxis": {
            "gridcolor": "white",
            "linecolor": "white",
            "ticks": ""
           },
           "bgcolor": "#E5ECF6",
           "caxis": {
            "gridcolor": "white",
            "linecolor": "white",
            "ticks": ""
           }
          },
          "title": {
           "x": 0.05
          },
          "xaxis": {
           "automargin": true,
           "gridcolor": "white",
           "linecolor": "white",
           "ticks": "",
           "title": {
            "standoff": 15
           },
           "zerolinecolor": "white",
           "zerolinewidth": 2
          },
          "yaxis": {
           "automargin": true,
           "gridcolor": "white",
           "linecolor": "white",
           "ticks": "",
           "title": {
            "standoff": 15
           },
           "zerolinecolor": "white",
           "zerolinewidth": 2
          }
         }
        },
        "title": {
         "text": "The Number of Available Transmissions that Car Makes Provide"
        },
        "xaxis": {
         "anchor": "y",
         "domain": [
          0,
          1
         ],
         "title": {
          "text": "Car Make"
         }
        },
        "yaxis": {
         "anchor": "x",
         "domain": [
          0,
          1
         ],
         "title": {
          "text": "Available Manual Transmissions"
         }
        }
       }
      }
     },
     "metadata": {},
     "output_type": "display_data"
    }
   ],
   "source": [
    "#Turning our grouped series into a dataframe so I can use the indexes as axes on the scatterplot\n",
    "grouped_make_df = grouped_make.reset_index(name='manuals_offered')\n",
    "fig = px.scatter(grouped_make_df, x='model', y='manuals_offered', labels={'model': 'Car Make', 'manuals_offered': 'Available Manual Transmissions'}, title=\"The Number of Available Transmissions that Car Makes Provide\")\n",
    "fig.show()"
   ]
  },
  {
   "cell_type": "markdown",
   "metadata": {},
   "source": [
    "# Conclusion"
   ]
  },
  {
   "cell_type": "markdown",
   "metadata": {},
   "source": [
    "We found for a car's make/model the companies that had the highest average miles per vehicle such as GMC Yukon, RAM 3500, and so forth. We also found the companies that offered the most car options that have a manual transmision, which happened to be Ford, Jeep, Chevrolet, and so forth."
   ]
  }
 ],
 "metadata": {
  "kernelspec": {
   "display_name": "Python 3",
   "language": "python",
   "name": "python3"
  },
  "language_info": {
   "codemirror_mode": {
    "name": "ipython",
    "version": 3
   },
   "file_extension": ".py",
   "mimetype": "text/x-python",
   "name": "python",
   "nbconvert_exporter": "python",
   "pygments_lexer": "ipython3",
   "version": "3.10.2"
  }
 },
 "nbformat": 4,
 "nbformat_minor": 2
}
